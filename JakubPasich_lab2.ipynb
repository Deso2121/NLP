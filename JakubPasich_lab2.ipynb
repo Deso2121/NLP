{
 "cells": [
  {
   "cell_type": "code",
   "execution_count": 13,
   "id": "6fa9aaaa",
   "metadata": {},
   "outputs": [
    {
     "name": "stdout",
     "output_type": "stream",
     "text": [
      "Collecting morfeusz2\n",
      "  Downloading morfeusz2-1.99.0-20210627-cp38-cp38-win_amd64.whl (9.0 MB)\n",
      "Installing collected packages: morfeusz2\n",
      "Successfully installed morfeusz2-1.99.0\n"
     ]
    }
   ],
   "source": [
    "# pip install elasticsearch==7.10.1\n",
    "# !pip install morfeusz2"
   ]
  },
  {
   "cell_type": "code",
   "execution_count": 1,
   "id": "2648f131",
   "metadata": {},
   "outputs": [
    {
     "name": "stdout",
     "output_type": "stream",
     "text": [
      "\u001b[31mERROR: XMLRPC request failed [code: -32500]\r\n",
      "RuntimeError: PyPI's XMLRPC API is currently disabled due to unmanageable load and will be deprecated in the near future. See https://status.python.org/ for more information.\u001b[0m\r\n"
     ]
    }
   ],
   "source": [
    "!pip search elasticsearch"
   ]
  },
  {
   "cell_type": "code",
   "execution_count": 3,
   "id": "f1bef231",
   "metadata": {},
   "outputs": [],
   "source": [
    "import re\n",
    "import tarfile\n",
    "import numpy as np\n",
    "import glob\n",
    "# import matplotlib.pyplot as plt\n",
    "import pandas as pd\n",
    "from collections import Counter\n",
    "from morfeusz2 import Morfeusz"
   ]
  },
  {
   "cell_type": "code",
   "execution_count": 4,
   "id": "e7a49223",
   "metadata": {},
   "outputs": [],
   "source": [
    "import datetime\n",
    "import logging\n",
    "logger = logging.getLogger(\"elasticsearch\")\n",
    "logger.setLevel(logging.ERROR)\n",
    "from elasticsearch import Elasticsearch\n",
    "import os\n",
    "import pandas as pd\n",
    "import sys"
   ]
  },
  {
   "cell_type": "code",
   "execution_count": 5,
   "id": "dd838e5d",
   "metadata": {},
   "outputs": [],
   "source": [
    "es = Elasticsearch(\"http://localhost:9200\")\n",
    "resp = es.info()"
   ]
  },
  {
   "cell_type": "code",
   "execution_count": 6,
   "id": "02299238",
   "metadata": {},
   "outputs": [
    {
     "data": {
      "text/plain": [
       "{'name': 'hypetraintommy',\n",
       " 'cluster_name': 'elasticsearch',\n",
       " 'cluster_uuid': '5e2k1_kCR36mjX0pdK52rw',\n",
       " 'version': {'number': '7.10.1',\n",
       "  'build_flavor': 'default',\n",
       "  'build_type': 'deb',\n",
       "  'build_hash': '1c34507e66d7db1211f66f3513706fdf548736aa',\n",
       "  'build_date': '2020-12-05T01:00:33.671820Z',\n",
       "  'build_snapshot': False,\n",
       "  'lucene_version': '8.7.0',\n",
       "  'minimum_wire_compatibility_version': '6.8.0',\n",
       "  'minimum_index_compatibility_version': '6.0.0-beta1'},\n",
       " 'tagline': 'You Know, for Search'}"
      ]
     },
     "execution_count": 6,
     "metadata": {},
     "output_type": "execute_result"
    }
   ],
   "source": [
    "resp"
   ]
  },
  {
   "cell_type": "code",
   "execution_count": 7,
   "id": "2e8ecf40",
   "metadata": {},
   "outputs": [
    {
     "name": "stdout",
     "output_type": "stream",
     "text": [
      "Index not created yet.\n"
     ]
    },
    {
     "name": "stderr",
     "output_type": "stream",
     "text": [
      "/tmp/ipykernel_39577/437438416.py:2: DeprecationWarning: Using positional arguments for APIs is deprecated and will be disabled in 8.0.0. Instead use only keyword arguments for all APIs. See https://github.com/elastic/elasticsearch-py/issues/1698 for more information\n",
      "  es.indices.delete('polish_bills')\n"
     ]
    }
   ],
   "source": [
    "try:\n",
    "    es.indices.delete('polish_bills')\n",
    "except:\n",
    "    print(\"Index not created yet.\")"
   ]
  },
  {
   "cell_type": "code",
   "execution_count": 8,
   "id": "1cb19558",
   "metadata": {},
   "outputs": [],
   "source": [
    "index_body={\n",
    "    \"settings\": {\n",
    "        \"index\":{\n",
    "            'analysis': {\n",
    "                \"analyzer\": {\n",
    "                    \"polish_bills_analyzer\":{\n",
    "                        \"type\": \"custom\",\n",
    "                        \"tokenizer\": \"standard\",\n",
    "                        \"filter\": [\"lowercase\", \"synonym\", \"morfologik_stem\"]\n",
    "                    }\n",
    "                },\n",
    "                \"filter\": {\n",
    "                    \"synonym\":{\n",
    "                        \"type\": \"synonym\",\n",
    "                        \"tokenizer\": \"standard\",\n",
    "                        \"synonyms\": [\"kpk, kodeks postępowania karnego\",\n",
    "                                   \"kpc, kodeks postępowania cywilnego\",\n",
    "                                   \"kk, kodeks karny\",\n",
    "                                   \"kc, kodeks cywilny\"]\n",
    "                    }\n",
    "                }\n",
    "            }\n",
    "        }\n",
    "    },\n",
    "    \"mappings\": {\n",
    "        \"_doc\": {\n",
    "            \"properties\": {\n",
    "                \"text\": {\n",
    "                    \"type\": \"text\",\n",
    "                    \"analyzer\": \"polish_bills_analyzer\"\n",
    "                },\n",
    "                \"name\": {\"type\": \"text\"}\n",
    "            }\n",
    "        }\n",
    "    }\n",
    "}"
   ]
  },
  {
   "cell_type": "code",
   "execution_count": 9,
   "id": "ba04cece",
   "metadata": {},
   "outputs": [
    {
     "name": "stderr",
     "output_type": "stream",
     "text": [
      "/tmp/ipykernel_39577/3175745924.py:1: DeprecationWarning: The 'body' parameter is deprecated for the 'create' API and will be removed in a future version. Instead use API parameters directly. See https://github.com/elastic/elasticsearch-py/issues/1698 for more information\n",
      "  es.indices.create(index='polish_bills', include_type_name=True, body=index_body)\n",
      "/home/hypetraintommy/kubus/nlp2/kuba-nlp2/lib/python3.8/site-packages/elasticsearch/connection/base.py:209: ElasticsearchWarning: [types removal] Using include_type_name in create index requests is deprecated. The parameter will be removed in the next major version.\n",
      "  warnings.warn(message, category=ElasticsearchWarning)\n"
     ]
    },
    {
     "data": {
      "text/plain": [
       "{'acknowledged': True, 'shards_acknowledged': True, 'index': 'polish_bills'}"
      ]
     },
     "execution_count": 9,
     "metadata": {},
     "output_type": "execute_result"
    }
   ],
   "source": [
    "es.indices.create(index='polish_bills', include_type_name=True, body=index_body)"
   ]
  },
  {
   "cell_type": "code",
   "execution_count": 11,
   "id": "1ad2ff8c",
   "metadata": {},
   "outputs": [
    {
     "data": {
      "text/plain": [
       "'2000_704.txt'"
      ]
     },
     "execution_count": 11,
     "metadata": {},
     "output_type": "execute_result"
    }
   ],
   "source": [
    "os.listdir()[1].split()[0]"
   ]
  },
  {
   "cell_type": "code",
   "execution_count": 12,
   "id": "5176e175",
   "metadata": {},
   "outputs": [
    {
     "name": "stderr",
     "output_type": "stream",
     "text": [
      "/tmp/ipykernel_39577/2864190266.py:8: DeprecationWarning: The 'body' parameter is deprecated for the 'index' API and will be removed in a future version. Instead use the 'document' parameter. See https://github.com/elastic/elasticsearch-py/issues/1698 for more information\n",
      "  es.index(index='polish_bills', id=file, body=doc)\n"
     ]
    }
   ],
   "source": [
    "bills_list = []\n",
    "for file in glob.glob(\"*.txt\"):\n",
    "    bills_list.append(file)\n",
    "    with open(os.getcwd() + \"/\" + file, 'r', encoding='utf-8') as f:\n",
    "        bill = f.read()\n",
    "        year = file.split(\"_\")[0]\n",
    "        doc = {'file': year, 'text': bill}\n",
    "        es.index(index='polish_bills', id=file, body=doc)"
   ]
  },
  {
   "cell_type": "markdown",
   "id": "48764c1a",
   "metadata": {},
   "source": [
    "## Determine the number of legislative acts containing the word ustawa (in any form)."
   ]
  },
  {
   "cell_type": "code",
   "execution_count": 13,
   "id": "f7044f60",
   "metadata": {},
   "outputs": [
    {
     "name": "stderr",
     "output_type": "stream",
     "text": [
      "/tmp/ipykernel_39577/1632681095.py:1: DeprecationWarning: The 'body' parameter is deprecated for the 'search' API and will be removed in a future version. Instead use API parameters directly. See https://github.com/elastic/elasticsearch-py/issues/1698 for more information\n",
      "  search_task6 = es.search(index='polish_bills', body = {\n"
     ]
    },
    {
     "name": "stdout",
     "output_type": "stream",
     "text": [
      "Legislative acts containing the word ustawa: 1178\n"
     ]
    }
   ],
   "source": [
    "search_task6 = es.search(index='polish_bills', body = {\n",
    "    \"query\": {\n",
    "        \"match\": {\n",
    "            \"text\": \"ustawa\"\n",
    "        }\n",
    "    }\n",
    "}\n",
    "         )\n",
    "print(\"Legislative acts containing the word ustawa: {}\".format(search_task6[\"hits\"][\"total\"][\"value\"]))"
   ]
  },
  {
   "cell_type": "markdown",
   "id": "7df917de",
   "metadata": {},
   "source": [
    "## Determine the number of occurrences of the word ustawa by searching for this particular form, including the other inflectional forms."
   ]
  },
  {
   "cell_type": "code",
   "execution_count": 31,
   "id": "eb0e9331",
   "metadata": {},
   "outputs": [
    {
     "name": "stderr",
     "output_type": "stream",
     "text": [
      "/tmp/ipykernel_39577/820971398.py:1: DeprecationWarning: The 'body' parameter is deprecated for the 'search' API and will be removed in a future version. Instead use API parameters directly. See https://github.com/elastic/elasticsearch-py/issues/1698 for more information\n",
      "  search_task7 = es.search(index='polish_bills', request_timeout=100, body = {\n"
     ]
    }
   ],
   "source": [
    "search_task7 = es.search(index='polish_bills', request_timeout=100, body = {\n",
    "    \"query\": {\n",
    "        \"match\": {\n",
    "            \"text\": \"ustawa\"\n",
    "        }\n",
    "    },\n",
    "    \"highlight\": {\n",
    "        \"fields\": {\n",
    "            \"text\": {\n",
    "                \"number_of_fragments\": 10000,\n",
    "                \"fragment_size\": 1\n",
    "            }\n",
    "        }\n",
    "    },\n",
    "    \"size\": 10000\n",
    "})"
   ]
  },
  {
   "cell_type": "code",
   "execution_count": 33,
   "id": "3b06a0c8",
   "metadata": {},
   "outputs": [
    {
     "name": "stdout",
     "output_type": "stream",
     "text": [
      "Number of occurences of the word ustawa and the other inflectional forms: 24934\n"
     ]
    }
   ],
   "source": [
    "hits = 0\n",
    "for hit in search_task7['hits']['hits']:\n",
    "    hits += len(hit['highlight']['text'])\n",
    "print(\"Number of occurences of the word ustawa and the other inflectional forms: {}\".format(hits))"
   ]
  },
  {
   "cell_type": "markdown",
   "id": "9cf7a906",
   "metadata": {},
   "source": [
    "## Determine the number of occurrences of the word ustaw by searching for this particular form, including the other inflectional forms."
   ]
  },
  {
   "cell_type": "code",
   "execution_count": 34,
   "id": "7d516ceb",
   "metadata": {},
   "outputs": [
    {
     "name": "stderr",
     "output_type": "stream",
     "text": [
      "/tmp/ipykernel_39577/3239431428.py:1: DeprecationWarning: The 'body' parameter is deprecated for the 'search' API and will be removed in a future version. Instead use API parameters directly. See https://github.com/elastic/elasticsearch-py/issues/1698 for more information\n",
      "  search_task8 = es.search(index='polish_bills', request_timeout=100, body = {\n"
     ]
    }
   ],
   "source": [
    "search_task8 = es.search(index='polish_bills', request_timeout=100, body = {\n",
    "    \"query\": {\n",
    "        \"match\": {\n",
    "            \"text\": \"ustaw\"\n",
    "        }\n",
    "    },\n",
    "    \"highlight\": {\n",
    "        \"fields\": {\n",
    "            \"text\": {\n",
    "                \"number_of_fragments\": 10000,\n",
    "                \"fragment_size\": 1\n",
    "            }\n",
    "        }\n",
    "    },\n",
    "    \"size\": 5000\n",
    "})"
   ]
  },
  {
   "cell_type": "code",
   "execution_count": 35,
   "id": "62bb1675",
   "metadata": {},
   "outputs": [
    {
     "name": "stdout",
     "output_type": "stream",
     "text": [
      "Number of occurences of the word ustaw and the other inflectional forms: 24934\n"
     ]
    }
   ],
   "source": [
    "print(\"Number of occurences of the word ustaw and the other inflectional forms: {}\".format(hits))"
   ]
  },
  {
   "cell_type": "markdown",
   "id": "1048cebb",
   "metadata": {},
   "source": [
    "## Determine the number of legislative acts containing the words kodeks postępowania cywilnego in the specified order, but in any inflection form."
   ]
  },
  {
   "cell_type": "code",
   "execution_count": 37,
   "id": "8805b4b7",
   "metadata": {},
   "outputs": [
    {
     "name": "stderr",
     "output_type": "stream",
     "text": [
      "/tmp/ipykernel_39577/2777925528.py:1: DeprecationWarning: The 'body' parameter is deprecated for the 'search' API and will be removed in a future version. Instead use API parameters directly. See https://github.com/elastic/elasticsearch-py/issues/1698 for more information\n",
      "  search_task9 = es.search(index='polish_bills', request_timeout=100, body = {\n"
     ]
    }
   ],
   "source": [
    "search_task9 = es.search(index='polish_bills', request_timeout=100, body = {\n",
    "    \"query\": {\n",
    "        \"match\": {\n",
    "            \"text\": \"kodeks postępowania cywilnego\"\n",
    "        }\n",
    "    },\n",
    "    \"highlight\": {\n",
    "        \"fields\": {\n",
    "            \"text\": {\n",
    "                \"number_of_fragments\": 10000,\n",
    "                \"fragment_size\": 1\n",
    "            }\n",
    "        }\n",
    "    },\n",
    "    \"size\": 5000\n",
    "})"
   ]
  },
  {
   "cell_type": "code",
   "execution_count": 40,
   "id": "6ff488ae",
   "metadata": {},
   "outputs": [
    {
     "name": "stdout",
     "output_type": "stream",
     "text": [
      "Number of occurences of the words kodeks postępowania cywilnego and the other inflectional forms: 99\n"
     ]
    }
   ],
   "source": [
    "print(\"Number of occurences of the words kodeks postępowania cywilnego and the other inflectional forms: {}\".format(search_task9['hits']['total']['value']))"
   ]
  },
  {
   "cell_type": "markdown",
   "id": "5eed9555",
   "metadata": {},
   "source": [
    "## Determine the number of legislative acts containing the words wchodzi w życie (in any form) allowing for up to 2 additional words in the searched phrase."
   ]
  },
  {
   "cell_type": "code",
   "execution_count": 41,
   "id": "1491e4bc",
   "metadata": {},
   "outputs": [
    {
     "name": "stderr",
     "output_type": "stream",
     "text": [
      "/tmp/ipykernel_39577/871189906.py:1: DeprecationWarning: The 'body' parameter is deprecated for the 'search' API and will be removed in a future version. Instead use API parameters directly. See https://github.com/elastic/elasticsearch-py/issues/1698 for more information\n",
      "  search_task10 = es.search(index='polish_bills', request_timeout=100, body = {\n"
     ]
    }
   ],
   "source": [
    "search_task10 = es.search(index='polish_bills', request_timeout=100, body = {\n",
    "    \"query\": {\n",
    "        \"match_phrase\": {\n",
    "            \"text\": {\n",
    "                \"query\": \"wchodzi w życie\",\n",
    "                \"slop\": 2\n",
    "            }\n",
    "        }\n",
    "    }\n",
    "})"
   ]
  },
  {
   "cell_type": "code",
   "execution_count": 42,
   "id": "67279853",
   "metadata": {},
   "outputs": [
    {
     "name": "stdout",
     "output_type": "stream",
     "text": [
      "Number of legislative acts containing the words wchodzi w życie (up to 2 additional words): 1174\n"
     ]
    }
   ],
   "source": [
    "print(\"Number of legislative acts containing the words wchodzi w życie (up to 2 additional words): {}\".format(search_task10['hits']['total']['value']))"
   ]
  },
  {
   "cell_type": "markdown",
   "id": "47619e61",
   "metadata": {},
   "source": [
    "## Determine the 10 documents that are the most relevant for the phrase konstytucja."
   ]
  },
  {
   "cell_type": "code",
   "execution_count": 59,
   "id": "7dd71dec",
   "metadata": {},
   "outputs": [
    {
     "name": "stdout",
     "output_type": "stream",
     "text": [
      "10 most relevant documents:\n"
     ]
    },
    {
     "name": "stderr",
     "output_type": "stream",
     "text": [
      "/tmp/ipykernel_39577/2085503983.py:1: DeprecationWarning: The 'body' parameter is deprecated for the 'search' API and will be removed in a future version. Instead use API parameters directly. See https://github.com/elastic/elasticsearch-py/issues/1698 for more information\n",
      "  search_task10 = es.search(index='polish_bills', request_timeout=100, body = {\n"
     ]
    }
   ],
   "source": [
    "search_task10 = es.search(index='polish_bills', request_timeout=100, body = {\n",
    "    \"query\": {\n",
    "        \"match\": {\n",
    "            \"text\": {\n",
    "                \"query\": \"konstytucja\"\n",
    "            }\n",
    "        }\n",
    "    },\n",
    "    \"highlight\": {\n",
    "        \"fields\": {\n",
    "            \"text\": {\n",
    "                \"number_of_fragments\": 3\n",
    "            }\n",
    "        }\n",
    "    },\n",
    "    \"size\": 10\n",
    "})\n",
    "print(\"10 most relevant documents:\")"
   ]
  },
  {
   "cell_type": "code",
   "execution_count": 61,
   "id": "03d1094b",
   "metadata": {},
   "outputs": [
    {
     "name": "stdout",
     "output_type": "stream",
     "text": [
      "1. -> bill no 1997_629\n",
      "2. -> bill no 2000_443\n",
      "3. -> bill no 1997_604\n",
      "4. -> bill no 1996_350\n",
      "5. -> bill no 1997_642\n",
      "6. -> bill no 2001_23\n",
      "7. -> bill no 1996_199\n",
      "8. -> bill no 1999_688\n",
      "9. -> bill no 2001_1082\n",
      "10. -> bill no 1997_681\n"
     ]
    }
   ],
   "source": [
    "for hit, result in enumerate(search_task10[\"hits\"][\"hits\"]):\n",
    "    print(\"{}. -> bill no {}\".format(hit+1, result['_id'][:-4]))"
   ]
  },
  {
   "cell_type": "markdown",
   "id": "9e01b093",
   "metadata": {},
   "source": [
    "## Print the excerpts containing the word konstytucja (up to three excerpts per document) from the previous task."
   ]
  },
  {
   "cell_type": "code",
   "execution_count": 72,
   "id": "fd3e5ceb",
   "metadata": {},
   "outputs": [
    {
     "name": "stdout",
     "output_type": "stream",
     "text": [
      "1997_629:\n",
      "1: o zmianie ustawy konstytucyjnej o trybie przygotowania\n",
      "           i uchwalenia <em>Konstytucji</em> Rzeczypospolitej\n",
      "\n",
      "2: W ustawie  konstytucyjnej z  dnia 23 kwietnia 1992 r. o trybie przygotowania i \n",
      "uchwalenia <em>Konstytucji</em>\n",
      "\n",
      "3: Do zgłoszenia projektu <em>Konstytucji</em> załącza się wykaz \n",
      "                obywateli popierających zgłoszenie\n",
      "\n",
      "2000_443:\n",
      "1: umowy międzynarodowej i nie wypełnia przesłanek określonych w art. 89\n",
      "     ust. 1 lub art. 90 <em>Konstytucji</em>\n",
      "\n",
      "2: międzynarodowej lub załącznika nie\n",
      "     wypełnia przesłanek określonych w art. 89 ust. 1 lub art. 90 <em>Konstytucji</em>\n",
      "\n",
      "3: co do zasadności wyboru\n",
      "  trybu ratyfikacji umowy międzynarodowej, o którym mowa w art. 89 ust. 2\n",
      "  <em>Konstytucji</em>\n",
      "\n",
      "1997_604:\n",
      "1: Jeżeli Trybunał Konstytucyjny wyda orzeczenie o sprzeczności celów partii \n",
      "   politycznej z <em>Konstytucją</em>\n",
      "\n",
      "2: Jeżeli Trybunał Konstytucyjny wyda orzeczenie o sprzeczności z <em>Konstytucją</em>\n",
      "   celów lub działalności\n",
      "\n",
      "3: Ciężar udowodnienia niezgodności z <em>Konstytucją</em> spoczywa\n",
      "                na wnioskodawcy, który w tym\n",
      "\n",
      "1996_350:\n",
      "1: Za naruszenie <em>Konstytucji</em> lub ustawy, w związku z zajmowanym\n",
      "              stanowiskiem lub w zakresie\n",
      "\n",
      "2: W zakresie określonym w art. 107 <em>Konstytucji</em> odpowiedzialność przed\n",
      "           Trybunałem Stanu ponoszą\n",
      "\n",
      "3: Członkowie Rady Ministrów ponoszą odpowiedzialność przed Trybunałem\n",
      "           Stanu za naruszenie <em>Konstytucji</em>\n",
      "\n",
      "1997_642:\n",
      "1: wnioskami o:\n",
      "             1) stwierdzenie zgodności ustaw i umów międzynarodowych z\n",
      "               <em>Konstytucją</em>\n",
      "\n",
      "2: stwierdzenie zgodności przepisów prawa wydawanych przez\n",
      "               centralne organy państwowe, z <em>Konstytucją</em>\n",
      "\n",
      "3: ratyfikowanymi\n",
      "               umowami międzynarodowymi i ustawami,\n",
      "             4) stwierdzenie zgodności z <em>Konstytucją</em>\n",
      "\n",
      "2001_23:\n",
      "1: W Dzienniku Ustaw Rzeczypospolitej Polskiej, zwanym dalej \"Dziennikiem\n",
      "  Ustaw\", ogłasza się:\n",
      "   1) <em>Konstytucję</em>\n",
      "\n",
      "2: akty prawne dotyczące:\n",
      "   1) stanu wojny i zawarcia pokoju,\n",
      "   2) referendum zatwierdzającego zmianę <em>Konstytucji</em>\n",
      "\n",
      "3: ministra, któremu Sejm wyraził wotum nieufności,\n",
      "     h) powoływania lub odwoływania na określone w <em>Konstytucji</em>\n",
      "\n",
      "1996_199:\n",
      "1: 2c i art. 9-11 ustawy konstytucyjnej z dnia 23 kwietnia \n",
      "1992 r. o trybie przygotowania i uchwalenia <em>Konstytucji</em>\n",
      "\n",
      "2: Prezydent Rzeczypospolitej Polskiej zarządza poddanie <em>Konstytucji</em> pod referendum\n",
      "   w trybie określonym\n",
      "\n",
      "3: Przyjęcie w referendum <em>Konstytucji</em> następuje wówczas, gdy opowiedziała \n",
      "   się za nią większość biorących\n",
      "\n",
      "1999_688:\n",
      "1: postępowania w sprawie wykonywania inicjatywy\n",
      "ustawodawczej przez obywateli, o której mowa w art. 118 ust. 2 <em>Konstytucji</em>\n",
      "\n",
      "2: Projekt ustawy nie może dotyczyć spraw, dla których <em>Konstytucja</em>\n",
      "Rzeczypospolitej Polskiej zastrzega wyłączną\n",
      "\n",
      "3: Projekt ustawy wniesiony do Marszałka Sejmu powinien odpowiadać wymogom\n",
      "  zawartym w <em>Konstytucji</em> i Regulaminie\n",
      "\n",
      "2001_1082:\n",
      "1: Krajowa Rada Sądownictwa, zwana dalej \"Radą\", realizuje cele określone w\n",
      "  <em>Konstytucji</em> Rzeczypospolitej\n",
      "\n",
      "2: ) podejmuje uchwały w sprawach wystąpienia do Trybunału Konstytucyjnego o\n",
      "     zbadanie zgodności z <em>Konstytucją</em>\n",
      "\n",
      "1997_681:\n",
      "1: Rzecznik Praw Dziecka, zwany dalej Rzecznikiem, stoi na straży praw dziecka\n",
      "  określonych w <em>Konstytucji</em>\n",
      "\n",
      "2: uroczyście, że przy wykonywaniu powierzonych mi obowiązków\n",
      "     Rzecznika Praw Dziecka dochowam wierności <em>Konstytucji</em>\n",
      "\n"
     ]
    }
   ],
   "source": [
    "for hit in search_task10[\"hits\"][\"hits\"]:\n",
    "    print(\"{}:\".format(hit[\"_id\"][:-4]))\n",
    "    for number, excerpt in enumerate(hit[\"highlight\"][\"text\"]):\n",
    "        print(\"{}: {}\\n\".format(number+1, excerpt))"
   ]
  },
  {
   "cell_type": "code",
   "execution_count": null,
   "id": "395e5b94",
   "metadata": {},
   "outputs": [],
   "source": []
  }
 ],
 "metadata": {
  "kernelspec": {
   "display_name": "Python 3 (ipykernel)",
   "language": "python",
   "name": "python3"
  },
  "language_info": {
   "codemirror_mode": {
    "name": "ipython",
    "version": 3
   },
   "file_extension": ".py",
   "mimetype": "text/x-python",
   "name": "python",
   "nbconvert_exporter": "python",
   "pygments_lexer": "ipython3",
   "version": "3.8.10"
  }
 },
 "nbformat": 4,
 "nbformat_minor": 5
}
