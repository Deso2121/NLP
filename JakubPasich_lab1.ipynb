{
 "cells": [
  {
   "cell_type": "code",
   "execution_count": 1,
   "metadata": {},
   "outputs": [
    {
     "name": "stdout",
     "output_type": "stream",
     "text": [
      "Collecting regex\n",
      "  Downloading https://files.pythonhosted.org/packages/87/b7/d591d817130158ea317c06f4eec8de6fbfdfeafe2cf5e865930826bbccf6/regex-2021.10.8-cp37-cp37m-win_amd64.whl (273kB)\n",
      "Installing collected packages: regex\n",
      "Successfully installed regex-2021.10.8\n",
      "Note: you may need to restart the kernel to use updated packages.\n"
     ]
    }
   ],
   "source": [
    "pip install regex"
   ]
  },
  {
   "cell_type": "code",
   "execution_count": 9,
   "metadata": {},
   "outputs": [
    {
     "name": "stdout",
     "output_type": "stream",
     "text": [
      "Collecting morfeusz2\n",
      "  Downloading morfeusz2-1.99.0-20210627-cp38-cp38-win_amd64.whl (9.0 MB)\n",
      "Installing collected packages: morfeusz2\n",
      "Successfully installed morfeusz2-1.99.0\n",
      "Note: you may need to restart the kernel to use updated packages.\n"
     ]
    }
   ],
   "source": [
    "pip install morfeusz2"
   ]
  },
  {
   "cell_type": "code",
   "execution_count": 83,
   "metadata": {},
   "outputs": [],
   "source": [
    "import re\n",
    "import tarfile\n",
    "import numpy as np\n",
    "import glob\n",
    "import os\n",
    "import matplotlib.pyplot as plt\n",
    "import pandas as pd\n",
    "from collections import Counter\n",
    "from morfeusz2 import Morfeusz"
   ]
  },
  {
   "cell_type": "markdown",
   "metadata": {},
   "source": [
    "# 1. For each bill compute the number of the following amendments present in the bill:\n",
    "- addition of a unit (e.g. dodaje się ust. 5a),\n",
    "- removal of a unit (e.g. w art. 10 ust. 1 pkt 8 skreśla się),\n",
    "- change of a unit (e.g. art. 5 otrzymuje brzmienie)."
   ]
  },
  {
   "cell_type": "code",
   "execution_count": 2,
   "metadata": {},
   "outputs": [
    {
     "data": {
      "text/plain": [
       "'C:\\\\Users\\\\jpasi\\\\PJN'"
      ]
     },
     "execution_count": 2,
     "metadata": {},
     "output_type": "execute_result"
    }
   ],
   "source": [
    "os.getcwd()"
   ]
  },
  {
   "cell_type": "code",
   "execution_count": 3,
   "metadata": {},
   "outputs": [],
   "source": [
    "if len(glob.glob(\"*.txt\")) == 0:\n",
    "    bills = tarfile.open(\"ustawy.tar.gz\", \"r:gz\")\n",
    "    bills.extractall()\n",
    "    bills.close()"
   ]
  },
  {
   "cell_type": "code",
   "execution_count": 5,
   "metadata": {},
   "outputs": [],
   "source": [
    "bills_list = []\n",
    "additions, removals, changes = {}, {}, {}\n",
    "\n",
    "addition_regex = \"dodaje\\s+się\\s+(art\\.|ust\\.|pkt)\\s*\\d+\\w?\"\n",
    "removal_regex = \"skreśla\\s+się\\W+(art\\.|ust\\.|pkt)\\s*\\d+\\w?\"\n",
    "change_regex = \"(art\\.|ust\\.|pkt)\\s*\\d+\\w?.*\\sotrzymuj\\D\\s(brzmienie|oznaczenie)\"\n",
    "\n",
    "regexes = [addition_regex, removal_regex, change_regex]\n",
    "amendments = [additions, removals, changes]\n",
    "\n",
    "for file in glob.glob(\"*.txt\"):\n",
    "    bills_list += file\n",
    "    with open(os.getcwd() + \"/\" + file, 'r', encoding='utf-8') as f:\n",
    "        bill = f.read()\n",
    "        year = int(file[:4])\n",
    "        for amendment, regex in zip(amendments, regexes):\n",
    "            found_regex = re.findall(regex, bill)\n",
    "            if year in amendment.keys():\n",
    "                amendment[year] += len(found_regex)\n",
    "            else:\n",
    "                amendment[year] = len(found_regex) \n",
    "        "
   ]
  },
  {
   "cell_type": "code",
   "execution_count": 9,
   "metadata": {},
   "outputs": [],
   "source": [
    "data = {\"addition\": amendments[0],\n",
    "             \"removal\": amendments[1],\n",
    "             \"change\": amendments[2]}\n",
    "amendments_df = pd.DataFrame(data)"
   ]
  },
  {
   "cell_type": "code",
   "execution_count": 10,
   "metadata": {},
   "outputs": [
    {
     "data": {
      "text/html": [
       "<div>\n",
       "<style scoped>\n",
       "    .dataframe tbody tr th:only-of-type {\n",
       "        vertical-align: middle;\n",
       "    }\n",
       "\n",
       "    .dataframe tbody tr th {\n",
       "        vertical-align: top;\n",
       "    }\n",
       "\n",
       "    .dataframe thead th {\n",
       "        text-align: right;\n",
       "    }\n",
       "</style>\n",
       "<table border=\"1\" class=\"dataframe\">\n",
       "  <thead>\n",
       "    <tr style=\"text-align: right;\">\n",
       "      <th></th>\n",
       "      <th>addition</th>\n",
       "      <th>removal</th>\n",
       "      <th>change</th>\n",
       "    </tr>\n",
       "  </thead>\n",
       "  <tbody>\n",
       "    <tr>\n",
       "      <th>1993</th>\n",
       "      <td>32</td>\n",
       "      <td>4</td>\n",
       "      <td>63</td>\n",
       "    </tr>\n",
       "    <tr>\n",
       "      <th>1994</th>\n",
       "      <td>92</td>\n",
       "      <td>28</td>\n",
       "      <td>158</td>\n",
       "    </tr>\n",
       "    <tr>\n",
       "      <th>1995</th>\n",
       "      <td>315</td>\n",
       "      <td>79</td>\n",
       "      <td>378</td>\n",
       "    </tr>\n",
       "    <tr>\n",
       "      <th>1996</th>\n",
       "      <td>464</td>\n",
       "      <td>195</td>\n",
       "      <td>902</td>\n",
       "    </tr>\n",
       "    <tr>\n",
       "      <th>1997</th>\n",
       "      <td>636</td>\n",
       "      <td>266</td>\n",
       "      <td>1074</td>\n",
       "    </tr>\n",
       "    <tr>\n",
       "      <th>1998</th>\n",
       "      <td>201</td>\n",
       "      <td>79</td>\n",
       "      <td>302</td>\n",
       "    </tr>\n",
       "    <tr>\n",
       "      <th>1999</th>\n",
       "      <td>155</td>\n",
       "      <td>55</td>\n",
       "      <td>183</td>\n",
       "    </tr>\n",
       "    <tr>\n",
       "      <th>2000</th>\n",
       "      <td>740</td>\n",
       "      <td>306</td>\n",
       "      <td>1530</td>\n",
       "    </tr>\n",
       "    <tr>\n",
       "      <th>2001</th>\n",
       "      <td>1020</td>\n",
       "      <td>236</td>\n",
       "      <td>1393</td>\n",
       "    </tr>\n",
       "    <tr>\n",
       "      <th>2002</th>\n",
       "      <td>89</td>\n",
       "      <td>1</td>\n",
       "      <td>199</td>\n",
       "    </tr>\n",
       "    <tr>\n",
       "      <th>2003</th>\n",
       "      <td>957</td>\n",
       "      <td>1</td>\n",
       "      <td>1910</td>\n",
       "    </tr>\n",
       "    <tr>\n",
       "      <th>2004</th>\n",
       "      <td>988</td>\n",
       "      <td>2</td>\n",
       "      <td>1696</td>\n",
       "    </tr>\n",
       "  </tbody>\n",
       "</table>\n",
       "</div>"
      ],
      "text/plain": [
       "      addition  removal  change\n",
       "1993        32        4      63\n",
       "1994        92       28     158\n",
       "1995       315       79     378\n",
       "1996       464      195     902\n",
       "1997       636      266    1074\n",
       "1998       201       79     302\n",
       "1999       155       55     183\n",
       "2000       740      306    1530\n",
       "2001      1020      236    1393\n",
       "2002        89        1     199\n",
       "2003       957        1    1910\n",
       "2004       988        2    1696"
      ]
     },
     "execution_count": 10,
     "metadata": {},
     "output_type": "execute_result"
    }
   ],
   "source": [
    "amendments_df"
   ]
  },
  {
   "cell_type": "code",
   "execution_count": 31,
   "metadata": {},
   "outputs": [],
   "source": [
    "amendments_df[\"sum\"] = amendments_df.sum(axis=1)"
   ]
  },
  {
   "cell_type": "code",
   "execution_count": 33,
   "metadata": {},
   "outputs": [],
   "source": [
    "amendments_pct_df = amendments_df.loc[:, \"addition\":\"change\"].div(amendments_df[\"sum\"], axis=0)"
   ]
  },
  {
   "cell_type": "code",
   "execution_count": 43,
   "metadata": {},
   "outputs": [
    {
     "data": {
      "text/plain": [
       "<AxesSubplot:title={'center':'Percentage of different amendment types in polish law by year'}, xlabel='Year'>"
      ]
     },
     "execution_count": 43,
     "metadata": {},
     "output_type": "execute_result"
    },
    {
     "data": {
      "text/plain": [
       "<Figure size 432x288 with 0 Axes>"
      ]
     },
     "metadata": {},
     "output_type": "display_data"
    },
    {
     "data": {
      "image/png": "[encoded data removed]",
      "text/plain": [
       "<Figure size 1440x720 with 1 Axes>"
      ]
     },
     "metadata": {
      "needs_background": "light"
     },
     "output_type": "display_data"
    }
   ],
   "source": [
    "plt.figure()\n",
    "plt.rcParams.update({'font.size': 22})\n",
    "amendments_pct_df.plot.bar(stacked=True, figsize=(20, 10), title=\"Percentage of different amendment types in polish law by year\", xlabel=\"Year\", fontsize=15)"
   ]
  },
  {
   "cell_type": "markdown",
   "metadata": {},
   "source": [
    "# 2. Compute the total number of occurrences of the word ustawa in any inflectional form (ustawa, ustawie, ustawę, etc.) and all spelling forms (ustawa, Ustawa, USTAWA), excluding other words with the same prefix (e.g. ustawić)."
   ]
  },
  {
   "cell_type": "code",
   "execution_count": 45,
   "metadata": {},
   "outputs": [],
   "source": [
    "morf = Morfeusz()\n",
    "forms = morf.generate(\"ustawa\")"
   ]
  },
  {
   "cell_type": "code",
   "execution_count": 46,
   "metadata": {},
   "outputs": [
    {
     "data": {
      "text/plain": [
       "[('ustawa', 'ustawa', 'subst:sg:nom:f', ['nazwa_pospolita'], []),\n",
       " ('ustawy', 'ustawa', 'subst:sg:gen:f', ['nazwa_pospolita'], []),\n",
       " ('ustawie', 'ustawa', 'subst:sg:dat.loc:f', ['nazwa_pospolita'], []),\n",
       " ('ustawę', 'ustawa', 'subst:sg:acc:f', ['nazwa_pospolita'], []),\n",
       " ('ustawą', 'ustawa', 'subst:sg:inst:f', ['nazwa_pospolita'], []),\n",
       " ('ustawo', 'ustawa', 'subst:sg:voc:f', ['nazwa_pospolita'], []),\n",
       " ('ustawy', 'ustawa', 'subst:pl:nom.acc.voc:f', ['nazwa_pospolita'], []),\n",
       " ('ustaw', 'ustawa', 'subst:pl:gen:f', ['nazwa_pospolita'], []),\n",
       " ('ustawom', 'ustawa', 'subst:pl:dat:f', ['nazwa_pospolita'], []),\n",
       " ('ustawami', 'ustawa', 'subst:pl:inst:f', ['nazwa_pospolita'], []),\n",
       " ('ustawach', 'ustawa', 'subst:pl:loc:f', ['nazwa_pospolita'], []),\n",
       " ('U', 'ustawa', 'brev:pun', [], [])]"
      ]
     },
     "execution_count": 46,
     "metadata": {},
     "output_type": "execute_result"
    }
   ],
   "source": [
    "forms"
   ]
  },
  {
   "cell_type": "code",
   "execution_count": 74,
   "metadata": {},
   "outputs": [],
   "source": [
    "ustawa_regex = r'\\b('\n",
    "for i, form in zip(range(1, 12), forms):\n",
    "    if i < 11:\n",
    "        ustawa_regex += str(form[0])\n",
    "        ustawa_regex += \"|\"\n",
    "    if i==11:\n",
    "        ustawa_regex += str(form[0])\n",
    "        ustawa_regex += \")\""
   ]
  },
  {
   "cell_type": "code",
   "execution_count": 75,
   "metadata": {},
   "outputs": [
    {
     "data": {
      "text/plain": [
       "'\\\\b(ustawa|ustawy|ustawie|ustawę|ustawą|ustawo|ustawy|ustaw|ustawom|ustawami|ustawach)'"
      ]
     },
     "execution_count": 75,
     "metadata": {},
     "output_type": "execute_result"
    }
   ],
   "source": [
    "ustawa_regex"
   ]
  },
  {
   "cell_type": "code",
   "execution_count": 138,
   "metadata": {},
   "outputs": [],
   "source": [
    "z_dnia_expression = ustawa_regex+ \"\\W+z dnia\"\n",
    "wo_z_dnia_expression = ustawa_regex + \"\\W+(?!z dnia)\"\n",
    "wo_o_zmianie_expression = ustawa_regex + \"\\W+(?!o zmianie)\""
   ]
  },
  {
   "cell_type": "code",
   "execution_count": 139,
   "metadata": {},
   "outputs": [
    {
     "data": {
      "text/plain": [
       "'\\\\b(ustawa|ustawy|ustawie|ustawę|ustawą|ustawo|ustawy|ustaw|ustawom|ustawami|ustawach)\\\\W+z dnia'"
      ]
     },
     "execution_count": 139,
     "metadata": {},
     "output_type": "execute_result"
    }
   ],
   "source": [
    "z_dnia_expression"
   ]
  },
  {
   "cell_type": "code",
   "execution_count": 140,
   "metadata": {},
   "outputs": [],
   "source": [
    "ustawa_regexes = [ustawa_regex, z_dnia_expression, wo_z_dnia_expression, wo_o_zmianie_expression]\n",
    "counts = [{}, {}, {}, {}]"
   ]
  },
  {
   "cell_type": "code",
   "execution_count": 141,
   "metadata": {},
   "outputs": [],
   "source": [
    "for file in glob.glob(\"*.txt\"):\n",
    "    with open(os.getcwd() + \"/\" + file, 'r', encoding='utf-8') as f:\n",
    "        bill = f.read().lower()\n",
    "        for index, reg in enumerate(ustawa_regexes):\n",
    "            found = re.findall(reg, bill)\n",
    "            counts[index] = dict(Counter(counts[index]) + Counter(found))"
   ]
  },
  {
   "cell_type": "code",
   "execution_count": 142,
   "metadata": {},
   "outputs": [],
   "source": [
    "totals = []\n",
    "for count in counts:\n",
    "    total = 0\n",
    "    for value in count.values():\n",
    "        total += value\n",
    "    totals += [total]"
   ]
  },
  {
   "cell_type": "code",
   "execution_count": 143,
   "metadata": {},
   "outputs": [
    {
     "data": {
      "text/plain": [
       "[25759, 8105, 17739, 24903]"
      ]
     },
     "execution_count": 143,
     "metadata": {},
     "output_type": "execute_result"
    }
   ],
   "source": [
    "totals"
   ]
  },
  {
   "cell_type": "code",
   "execution_count": 144,
   "metadata": {},
   "outputs": [],
   "source": [
    "data2 = {\"Ustawa\": totals[0],\n",
    "             \"With 'z dnia'\": totals[1],\n",
    "             \"Without 'z dnia'\": totals[2],\n",
    "            \"Without 'o zmianie'\": totals[3]}"
   ]
  },
  {
   "cell_type": "code",
   "execution_count": 145,
   "metadata": {},
   "outputs": [
    {
     "name": "stdout",
     "output_type": "stream",
     "text": [
      "25844\n"
     ]
    }
   ],
   "source": [
    "print(totals[1] + totals[2])"
   ]
  },
  {
   "cell_type": "code",
   "execution_count": 146,
   "metadata": {},
   "outputs": [
    {
     "data": {
      "image/png": "[encoded data removed]",
      "text/plain": [
       "<Figure size 1440x720 with 1 Axes>"
      ]
     },
     "metadata": {
      "needs_background": "light"
     },
     "output_type": "display_data"
    }
   ],
   "source": [
    "plt.figure(figsize=(20, 10))\n",
    "plt.title(\"Occurences of particular regex in the bills\")\n",
    "plt.bar(*zip(*data2.items()))\n",
    "plt.show()"
   ]
  },
  {
   "cell_type": "code",
   "execution_count": null,
   "metadata": {},
   "outputs": [],
   "source": []
  }
 ],
 "metadata": {
  "kernelspec": {
   "display_name": "Python 3",
   "language": "python",
   "name": "python3"
  },
  "language_info": {
   "codemirror_mode": {
    "name": "ipython",
    "version": 3
   },
   "file_extension": ".py",
   "mimetype": "text/x-python",
   "name": "python",
   "nbconvert_exporter": "python",
   "pygments_lexer": "ipython3",
   "version": "3.8.8"
  }
 },
 "nbformat": 4,
 "nbformat_minor": 2
}
