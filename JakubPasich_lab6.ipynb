{
  "cells": [
    {
      "cell_type": "markdown",
      "id": "3fc65aac",
      "metadata": {
        "id": "3fc65aac"
      },
      "source": [
        "# Language modelling"
      ]
    },
    {
      "cell_type": "markdown",
      "id": "2847cce7",
      "metadata": {
        "id": "2847cce7"
      },
      "source": [
        "## 1. Read the [documentation](https://huggingface.co/docs/transformers/task_summary#language-modeling) of Language modelling in the Transformers library."
      ]
    },
    {
      "cell_type": "markdown",
      "id": "d437028f",
      "metadata": {
        "id": "d437028f"
      },
      "source": [
        "## 2. Download three [Polish models](https://huggingface.co/models?filter=pl) from the Huggingface repository."
      ]
    },
    {
      "cell_type": "code",
      "source": [
        "!pip install transformers"
      ],
      "metadata": {
        "colab": {
          "base_uri": "https://localhost:8080/"
        },
        "id": "kZiDdaxpcnS7",
        "outputId": "71563e21-1d32-464c-8daf-5cead1e5de05"
      },
      "id": "kZiDdaxpcnS7",
      "execution_count": 2,
      "outputs": [
        {
          "output_type": "stream",
          "name": "stdout",
          "text": [
            "Collecting transformers\n",
            "  Downloading transformers-4.16.2-py3-none-any.whl (3.5 MB)\n",
            "\u001b[?25l\r\u001b[K     |                                | 10 kB 21.6 MB/s eta 0:00:01\r\u001b[K     |▏                               | 20 kB 24.5 MB/s eta 0:00:01\r\u001b[K     |▎                               | 30 kB 29.5 MB/s eta 0:00:01\r\u001b[K     |▍                               | 40 kB 33.8 MB/s eta 0:00:01\r\u001b[K     |▌                               | 51 kB 35.0 MB/s eta 0:00:01\r\u001b[K     |▌                               | 61 kB 27.2 MB/s eta 0:00:01\r\u001b[K     |▋                               | 71 kB 22.8 MB/s eta 0:00:01\r\u001b[K     |▊                               | 81 kB 24.0 MB/s eta 0:00:01\r\u001b[K     |▉                               | 92 kB 22.9 MB/s eta 0:00:01\r\u001b[K     |█                               | 102 kB 24.2 MB/s eta 0:00:01\r\u001b[K     |█                               | 112 kB 24.2 MB/s eta 0:00:01\r\u001b[K     |█                               | 122 kB 24.2 MB/s eta 0:00:01\r\u001b[K     |█▏                              | 133 kB 24.2 MB/s eta 0:00:01\r\u001b[K     |█▎                              | 143 kB 24.2 MB/s eta 0:00:01\r\u001b[K     |█▍                              | 153 kB 24.2 MB/s eta 0:00:01\r\u001b[K     |█▌                              | 163 kB 24.2 MB/s eta 0:00:01\r\u001b[K     |█▋                              | 174 kB 24.2 MB/s eta 0:00:01\r\u001b[K     |█▋                              | 184 kB 24.2 MB/s eta 0:00:01\r\u001b[K     |█▊                              | 194 kB 24.2 MB/s eta 0:00:01\r\u001b[K     |█▉                              | 204 kB 24.2 MB/s eta 0:00:01\r\u001b[K     |██                              | 215 kB 24.2 MB/s eta 0:00:01\r\u001b[K     |██                              | 225 kB 24.2 MB/s eta 0:00:01\r\u001b[K     |██▏                             | 235 kB 24.2 MB/s eta 0:00:01\r\u001b[K     |██▏                             | 245 kB 24.2 MB/s eta 0:00:01\r\u001b[K     |██▎                             | 256 kB 24.2 MB/s eta 0:00:01\r\u001b[K     |██▍                             | 266 kB 24.2 MB/s eta 0:00:01\r\u001b[K     |██▌                             | 276 kB 24.2 MB/s eta 0:00:01\r\u001b[K     |██▋                             | 286 kB 24.2 MB/s eta 0:00:01\r\u001b[K     |██▊                             | 296 kB 24.2 MB/s eta 0:00:01\r\u001b[K     |██▊                             | 307 kB 24.2 MB/s eta 0:00:01\r\u001b[K     |██▉                             | 317 kB 24.2 MB/s eta 0:00:01\r\u001b[K     |███                             | 327 kB 24.2 MB/s eta 0:00:01\r\u001b[K     |███                             | 337 kB 24.2 MB/s eta 0:00:01\r\u001b[K     |███▏                            | 348 kB 24.2 MB/s eta 0:00:01\r\u001b[K     |███▎                            | 358 kB 24.2 MB/s eta 0:00:01\r\u001b[K     |███▎                            | 368 kB 24.2 MB/s eta 0:00:01\r\u001b[K     |███▍                            | 378 kB 24.2 MB/s eta 0:00:01\r\u001b[K     |███▌                            | 389 kB 24.2 MB/s eta 0:00:01\r\u001b[K     |███▋                            | 399 kB 24.2 MB/s eta 0:00:01\r\u001b[K     |███▊                            | 409 kB 24.2 MB/s eta 0:00:01\r\u001b[K     |███▉                            | 419 kB 24.2 MB/s eta 0:00:01\r\u001b[K     |███▉                            | 430 kB 24.2 MB/s eta 0:00:01\r\u001b[K     |████                            | 440 kB 24.2 MB/s eta 0:00:01\r\u001b[K     |████                            | 450 kB 24.2 MB/s eta 0:00:01\r\u001b[K     |████▏                           | 460 kB 24.2 MB/s eta 0:00:01\r\u001b[K     |████▎                           | 471 kB 24.2 MB/s eta 0:00:01\r\u001b[K     |████▍                           | 481 kB 24.2 MB/s eta 0:00:01\r\u001b[K     |████▍                           | 491 kB 24.2 MB/s eta 0:00:01\r\u001b[K     |████▌                           | 501 kB 24.2 MB/s eta 0:00:01\r\u001b[K     |████▋                           | 512 kB 24.2 MB/s eta 0:00:01\r\u001b[K     |████▊                           | 522 kB 24.2 MB/s eta 0:00:01\r\u001b[K     |████▉                           | 532 kB 24.2 MB/s eta 0:00:01\r\u001b[K     |█████                           | 542 kB 24.2 MB/s eta 0:00:01\r\u001b[K     |█████                           | 552 kB 24.2 MB/s eta 0:00:01\r\u001b[K     |█████                           | 563 kB 24.2 MB/s eta 0:00:01\r\u001b[K     |█████▏                          | 573 kB 24.2 MB/s eta 0:00:01\r\u001b[K     |█████▎                          | 583 kB 24.2 MB/s eta 0:00:01\r\u001b[K     |█████▍                          | 593 kB 24.2 MB/s eta 0:00:01\r\u001b[K     |█████▌                          | 604 kB 24.2 MB/s eta 0:00:01\r\u001b[K     |█████▌                          | 614 kB 24.2 MB/s eta 0:00:01\r\u001b[K     |█████▋                          | 624 kB 24.2 MB/s eta 0:00:01\r\u001b[K     |█████▊                          | 634 kB 24.2 MB/s eta 0:00:01\r\u001b[K     |█████▉                          | 645 kB 24.2 MB/s eta 0:00:01\r\u001b[K     |██████                          | 655 kB 24.2 MB/s eta 0:00:01\r\u001b[K     |██████                          | 665 kB 24.2 MB/s eta 0:00:01\r\u001b[K     |██████                          | 675 kB 24.2 MB/s eta 0:00:01\r\u001b[K     |██████▏                         | 686 kB 24.2 MB/s eta 0:00:01\r\u001b[K     |██████▎                         | 696 kB 24.2 MB/s eta 0:00:01\r\u001b[K     |██████▍                         | 706 kB 24.2 MB/s eta 0:00:01\r\u001b[K     |██████▌                         | 716 kB 24.2 MB/s eta 0:00:01\r\u001b[K     |██████▌                         | 727 kB 24.2 MB/s eta 0:00:01\r\u001b[K     |██████▋                         | 737 kB 24.2 MB/s eta 0:00:01\r\u001b[K     |██████▊                         | 747 kB 24.2 MB/s eta 0:00:01\r\u001b[K     |██████▉                         | 757 kB 24.2 MB/s eta 0:00:01\r\u001b[K     |███████                         | 768 kB 24.2 MB/s eta 0:00:01\r\u001b[K     |███████                         | 778 kB 24.2 MB/s eta 0:00:01\r\u001b[K     |███████                         | 788 kB 24.2 MB/s eta 0:00:01\r\u001b[K     |███████▏                        | 798 kB 24.2 MB/s eta 0:00:01\r\u001b[K     |███████▎                        | 808 kB 24.2 MB/s eta 0:00:01\r\u001b[K     |███████▍                        | 819 kB 24.2 MB/s eta 0:00:01\r\u001b[K     |███████▌                        | 829 kB 24.2 MB/s eta 0:00:01\r\u001b[K     |███████▋                        | 839 kB 24.2 MB/s eta 0:00:01\r\u001b[K     |███████▋                        | 849 kB 24.2 MB/s eta 0:00:01\r\u001b[K     |███████▊                        | 860 kB 24.2 MB/s eta 0:00:01\r\u001b[K     |███████▉                        | 870 kB 24.2 MB/s eta 0:00:01\r\u001b[K     |████████                        | 880 kB 24.2 MB/s eta 0:00:01\r\u001b[K     |████████                        | 890 kB 24.2 MB/s eta 0:00:01\r\u001b[K     |████████▏                       | 901 kB 24.2 MB/s eta 0:00:01\r\u001b[K     |████████▏                       | 911 kB 24.2 MB/s eta 0:00:01\r\u001b[K     |████████▎                       | 921 kB 24.2 MB/s eta 0:00:01\r\u001b[K     |████████▍                       | 931 kB 24.2 MB/s eta 0:00:01\r\u001b[K     |████████▌                       | 942 kB 24.2 MB/s eta 0:00:01\r\u001b[K     |████████▋                       | 952 kB 24.2 MB/s eta 0:00:01\r\u001b[K     |████████▊                       | 962 kB 24.2 MB/s eta 0:00:01\r\u001b[K     |████████▊                       | 972 kB 24.2 MB/s eta 0:00:01\r\u001b[K     |████████▉                       | 983 kB 24.2 MB/s eta 0:00:01\r\u001b[K     |█████████                       | 993 kB 24.2 MB/s eta 0:00:01\r\u001b[K     |█████████                       | 1.0 MB 24.2 MB/s eta 0:00:01\r\u001b[K     |█████████▏                      | 1.0 MB 24.2 MB/s eta 0:00:01\r\u001b[K     |█████████▎                      | 1.0 MB 24.2 MB/s eta 0:00:01\r\u001b[K     |█████████▎                      | 1.0 MB 24.2 MB/s eta 0:00:01\r\u001b[K     |█████████▍                      | 1.0 MB 24.2 MB/s eta 0:00:01\r\u001b[K     |█████████▌                      | 1.1 MB 24.2 MB/s eta 0:00:01\r\u001b[K     |█████████▋                      | 1.1 MB 24.2 MB/s eta 0:00:01\r\u001b[K     |█████████▊                      | 1.1 MB 24.2 MB/s eta 0:00:01\r\u001b[K     |█████████▉                      | 1.1 MB 24.2 MB/s eta 0:00:01\r\u001b[K     |█████████▉                      | 1.1 MB 24.2 MB/s eta 0:00:01\r\u001b[K     |██████████                      | 1.1 MB 24.2 MB/s eta 0:00:01\r\u001b[K     |██████████                      | 1.1 MB 24.2 MB/s eta 0:00:01\r\u001b[K     |██████████▏                     | 1.1 MB 24.2 MB/s eta 0:00:01\r\u001b[K     |██████████▎                     | 1.1 MB 24.2 MB/s eta 0:00:01\r\u001b[K     |██████████▍                     | 1.1 MB 24.2 MB/s eta 0:00:01\r\u001b[K     |██████████▍                     | 1.2 MB 24.2 MB/s eta 0:00:01\r\u001b[K     |██████████▌                     | 1.2 MB 24.2 MB/s eta 0:00:01\r\u001b[K     |██████████▋                     | 1.2 MB 24.2 MB/s eta 0:00:01\r\u001b[K     |██████████▊                     | 1.2 MB 24.2 MB/s eta 0:00:01\r\u001b[K     |██████████▉                     | 1.2 MB 24.2 MB/s eta 0:00:01\r\u001b[K     |███████████                     | 1.2 MB 24.2 MB/s eta 0:00:01\r\u001b[K     |███████████                     | 1.2 MB 24.2 MB/s eta 0:00:01\r\u001b[K     |███████████                     | 1.2 MB 24.2 MB/s eta 0:00:01\r\u001b[K     |███████████▏                    | 1.2 MB 24.2 MB/s eta 0:00:01\r\u001b[K     |███████████▎                    | 1.2 MB 24.2 MB/s eta 0:00:01\r\u001b[K     |███████████▍                    | 1.3 MB 24.2 MB/s eta 0:00:01\r\u001b[K     |███████████▌                    | 1.3 MB 24.2 MB/s eta 0:00:01\r\u001b[K     |███████████▌                    | 1.3 MB 24.2 MB/s eta 0:00:01\r\u001b[K     |███████████▋                    | 1.3 MB 24.2 MB/s eta 0:00:01\r\u001b[K     |███████████▊                    | 1.3 MB 24.2 MB/s eta 0:00:01\r\u001b[K     |███████████▉                    | 1.3 MB 24.2 MB/s eta 0:00:01\r\u001b[K     |████████████                    | 1.3 MB 24.2 MB/s eta 0:00:01\r\u001b[K     |████████████                    | 1.3 MB 24.2 MB/s eta 0:00:01\r\u001b[K     |████████████                    | 1.3 MB 24.2 MB/s eta 0:00:01\r\u001b[K     |████████████▏                   | 1.4 MB 24.2 MB/s eta 0:00:01\r\u001b[K     |████████████▎                   | 1.4 MB 24.2 MB/s eta 0:00:01\r\u001b[K     |████████████▍                   | 1.4 MB 24.2 MB/s eta 0:00:01\r\u001b[K     |████████████▌                   | 1.4 MB 24.2 MB/s eta 0:00:01\r\u001b[K     |████████████▋                   | 1.4 MB 24.2 MB/s eta 0:00:01\r\u001b[K     |████████████▋                   | 1.4 MB 24.2 MB/s eta 0:00:01\r\u001b[K     |████████████▊                   | 1.4 MB 24.2 MB/s eta 0:00:01\r\u001b[K     |████████████▉                   | 1.4 MB 24.2 MB/s eta 0:00:01\r\u001b[K     |█████████████                   | 1.4 MB 24.2 MB/s eta 0:00:01\r\u001b[K     |█████████████                   | 1.4 MB 24.2 MB/s eta 0:00:01\r\u001b[K     |█████████████                   | 1.5 MB 24.2 MB/s eta 0:00:01\r\u001b[K     |█████████████▏                  | 1.5 MB 24.2 MB/s eta 0:00:01\r\u001b[K     |█████████████▎                  | 1.5 MB 24.2 MB/s eta 0:00:01\r\u001b[K     |█████████████▍                  | 1.5 MB 24.2 MB/s eta 0:00:01\r\u001b[K     |█████████████▌                  | 1.5 MB 24.2 MB/s eta 0:00:01\r\u001b[K     |█████████████▋                  | 1.5 MB 24.2 MB/s eta 0:00:01\r\u001b[K     |█████████████▋                  | 1.5 MB 24.2 MB/s eta 0:00:01\r\u001b[K     |█████████████▊                  | 1.5 MB 24.2 MB/s eta 0:00:01\r\u001b[K     |█████████████▉                  | 1.5 MB 24.2 MB/s eta 0:00:01\r\u001b[K     |██████████████                  | 1.5 MB 24.2 MB/s eta 0:00:01\r\u001b[K     |██████████████                  | 1.6 MB 24.2 MB/s eta 0:00:01\r\u001b[K     |██████████████▏                 | 1.6 MB 24.2 MB/s eta 0:00:01\r\u001b[K     |██████████████▏                 | 1.6 MB 24.2 MB/s eta 0:00:01\r\u001b[K     |██████████████▎                 | 1.6 MB 24.2 MB/s eta 0:00:01\r\u001b[K     |██████████████▍                 | 1.6 MB 24.2 MB/s eta 0:00:01\r\u001b[K     |██████████████▌                 | 1.6 MB 24.2 MB/s eta 0:00:01\r\u001b[K     |██████████████▋                 | 1.6 MB 24.2 MB/s eta 0:00:01\r\u001b[K     |██████████████▊                 | 1.6 MB 24.2 MB/s eta 0:00:01\r\u001b[K     |██████████████▊                 | 1.6 MB 24.2 MB/s eta 0:00:01\r\u001b[K     |██████████████▉                 | 1.6 MB 24.2 MB/s eta 0:00:01\r\u001b[K     |███████████████                 | 1.7 MB 24.2 MB/s eta 0:00:01\r\u001b[K     |███████████████                 | 1.7 MB 24.2 MB/s eta 0:00:01\r\u001b[K     |███████████████▏                | 1.7 MB 24.2 MB/s eta 0:00:01\r\u001b[K     |███████████████▎                | 1.7 MB 24.2 MB/s eta 0:00:01\r\u001b[K     |███████████████▎                | 1.7 MB 24.2 MB/s eta 0:00:01\r\u001b[K     |███████████████▍                | 1.7 MB 24.2 MB/s eta 0:00:01\r\u001b[K     |███████████████▌                | 1.7 MB 24.2 MB/s eta 0:00:01\r\u001b[K     |███████████████▋                | 1.7 MB 24.2 MB/s eta 0:00:01\r\u001b[K     |███████████████▊                | 1.7 MB 24.2 MB/s eta 0:00:01\r\u001b[K     |███████████████▉                | 1.8 MB 24.2 MB/s eta 0:00:01\r\u001b[K     |███████████████▉                | 1.8 MB 24.2 MB/s eta 0:00:01\r\u001b[K     |████████████████                | 1.8 MB 24.2 MB/s eta 0:00:01\r\u001b[K     |████████████████                | 1.8 MB 24.2 MB/s eta 0:00:01\r\u001b[K     |████████████████▏               | 1.8 MB 24.2 MB/s eta 0:00:01\r\u001b[K     |████████████████▎               | 1.8 MB 24.2 MB/s eta 0:00:01\r\u001b[K     |████████████████▍               | 1.8 MB 24.2 MB/s eta 0:00:01\r\u001b[K     |████████████████▍               | 1.8 MB 24.2 MB/s eta 0:00:01\r\u001b[K     |████████████████▌               | 1.8 MB 24.2 MB/s eta 0:00:01\r\u001b[K     |████████████████▋               | 1.8 MB 24.2 MB/s eta 0:00:01\r\u001b[K     |████████████████▊               | 1.9 MB 24.2 MB/s eta 0:00:01\r\u001b[K     |████████████████▉               | 1.9 MB 24.2 MB/s eta 0:00:01\r\u001b[K     |█████████████████               | 1.9 MB 24.2 MB/s eta 0:00:01\r\u001b[K     |█████████████████               | 1.9 MB 24.2 MB/s eta 0:00:01\r\u001b[K     |█████████████████               | 1.9 MB 24.2 MB/s eta 0:00:01\r\u001b[K     |█████████████████▏              | 1.9 MB 24.2 MB/s eta 0:00:01\r\u001b[K     |█████████████████▎              | 1.9 MB 24.2 MB/s eta 0:00:01\r\u001b[K     |█████████████████▍              | 1.9 MB 24.2 MB/s eta 0:00:01\r\u001b[K     |█████████████████▌              | 1.9 MB 24.2 MB/s eta 0:00:01\r\u001b[K     |█████████████████▌              | 1.9 MB 24.2 MB/s eta 0:00:01\r\u001b[K     |█████████████████▋              | 2.0 MB 24.2 MB/s eta 0:00:01\r\u001b[K     |█████████████████▊              | 2.0 MB 24.2 MB/s eta 0:00:01\r\u001b[K     |█████████████████▉              | 2.0 MB 24.2 MB/s eta 0:00:01\r\u001b[K     |██████████████████              | 2.0 MB 24.2 MB/s eta 0:00:01\r\u001b[K     |██████████████████              | 2.0 MB 24.2 MB/s eta 0:00:01\r\u001b[K     |██████████████████              | 2.0 MB 24.2 MB/s eta 0:00:01\r\u001b[K     |██████████████████▏             | 2.0 MB 24.2 MB/s eta 0:00:01\r\u001b[K     |██████████████████▎             | 2.0 MB 24.2 MB/s eta 0:00:01\r\u001b[K     |██████████████████▍             | 2.0 MB 24.2 MB/s eta 0:00:01\r\u001b[K     |██████████████████▌             | 2.0 MB 24.2 MB/s eta 0:00:01\r\u001b[K     |██████████████████▋             | 2.1 MB 24.2 MB/s eta 0:00:01\r\u001b[K     |██████████████████▋             | 2.1 MB 24.2 MB/s eta 0:00:01\r\u001b[K     |██████████████████▊             | 2.1 MB 24.2 MB/s eta 0:00:01\r\u001b[K     |██████████████████▉             | 2.1 MB 24.2 MB/s eta 0:00:01\r\u001b[K     |███████████████████             | 2.1 MB 24.2 MB/s eta 0:00:01\r\u001b[K     |███████████████████             | 2.1 MB 24.2 MB/s eta 0:00:01\r\u001b[K     |███████████████████▏            | 2.1 MB 24.2 MB/s eta 0:00:01\r\u001b[K     |███████████████████▏            | 2.1 MB 24.2 MB/s eta 0:00:01\r\u001b[K     |███████████████████▎            | 2.1 MB 24.2 MB/s eta 0:00:01\r\u001b[K     |███████████████████▍            | 2.2 MB 24.2 MB/s eta 0:00:01\r\u001b[K     |███████████████████▌            | 2.2 MB 24.2 MB/s eta 0:00:01\r\u001b[K     |███████████████████▋            | 2.2 MB 24.2 MB/s eta 0:00:01\r\u001b[K     |███████████████████▋            | 2.2 MB 24.2 MB/s eta 0:00:01\r\u001b[K     |███████████████████▊            | 2.2 MB 24.2 MB/s eta 0:00:01\r\u001b[K     |███████████████████▉            | 2.2 MB 24.2 MB/s eta 0:00:01\r\u001b[K     |████████████████████            | 2.2 MB 24.2 MB/s eta 0:00:01\r\u001b[K     |████████████████████            | 2.2 MB 24.2 MB/s eta 0:00:01\r\u001b[K     |████████████████████▏           | 2.2 MB 24.2 MB/s eta 0:00:01\r\u001b[K     |████████████████████▏           | 2.2 MB 24.2 MB/s eta 0:00:01\r\u001b[K     |████████████████████▎           | 2.3 MB 24.2 MB/s eta 0:00:01\r\u001b[K     |████████████████████▍           | 2.3 MB 24.2 MB/s eta 0:00:01\r\u001b[K     |████████████████████▌           | 2.3 MB 24.2 MB/s eta 0:00:01\r\u001b[K     |████████████████████▋           | 2.3 MB 24.2 MB/s eta 0:00:01\r\u001b[K     |████████████████████▊           | 2.3 MB 24.2 MB/s eta 0:00:01\r\u001b[K     |████████████████████▊           | 2.3 MB 24.2 MB/s eta 0:00:01\r\u001b[K     |████████████████████▉           | 2.3 MB 24.2 MB/s eta 0:00:01\r\u001b[K     |█████████████████████           | 2.3 MB 24.2 MB/s eta 0:00:01\r\u001b[K     |█████████████████████           | 2.3 MB 24.2 MB/s eta 0:00:01\r\u001b[K     |█████████████████████▏          | 2.3 MB 24.2 MB/s eta 0:00:01\r\u001b[K     |█████████████████████▎          | 2.4 MB 24.2 MB/s eta 0:00:01\r\u001b[K     |█████████████████████▎          | 2.4 MB 24.2 MB/s eta 0:00:01\r\u001b[K     |█████████████████████▍          | 2.4 MB 24.2 MB/s eta 0:00:01\r\u001b[K     |█████████████████████▌          | 2.4 MB 24.2 MB/s eta 0:00:01\r\u001b[K     |█████████████████████▋          | 2.4 MB 24.2 MB/s eta 0:00:01\r\u001b[K     |█████████████████████▊          | 2.4 MB 24.2 MB/s eta 0:00:01\r\u001b[K     |█████████████████████▉          | 2.4 MB 24.2 MB/s eta 0:00:01\r\u001b[K     |█████████████████████▉          | 2.4 MB 24.2 MB/s eta 0:00:01\r\u001b[K     |██████████████████████          | 2.4 MB 24.2 MB/s eta 0:00:01\r\u001b[K     |██████████████████████          | 2.4 MB 24.2 MB/s eta 0:00:01\r\u001b[K     |██████████████████████▏         | 2.5 MB 24.2 MB/s eta 0:00:01\r\u001b[K     |██████████████████████▎         | 2.5 MB 24.2 MB/s eta 0:00:01\r\u001b[K     |██████████████████████▍         | 2.5 MB 24.2 MB/s eta 0:00:01\r\u001b[K     |██████████████████████▍         | 2.5 MB 24.2 MB/s eta 0:00:01\r\u001b[K     |██████████████████████▌         | 2.5 MB 24.2 MB/s eta 0:00:01\r\u001b[K     |██████████████████████▋         | 2.5 MB 24.2 MB/s eta 0:00:01\r\u001b[K     |██████████████████████▊         | 2.5 MB 24.2 MB/s eta 0:00:01\r\u001b[K     |██████████████████████▉         | 2.5 MB 24.2 MB/s eta 0:00:01\r\u001b[K     |███████████████████████         | 2.5 MB 24.2 MB/s eta 0:00:01\r\u001b[K     |███████████████████████         | 2.5 MB 24.2 MB/s eta 0:00:01\r\u001b[K     |███████████████████████         | 2.6 MB 24.2 MB/s eta 0:00:01\r\u001b[K     |███████████████████████▏        | 2.6 MB 24.2 MB/s eta 0:00:01\r\u001b[K     |███████████████████████▎        | 2.6 MB 24.2 MB/s eta 0:00:01\r\u001b[K     |███████████████████████▍        | 2.6 MB 24.2 MB/s eta 0:00:01\r\u001b[K     |███████████████████████▌        | 2.6 MB 24.2 MB/s eta 0:00:01\r\u001b[K     |███████████████████████▌        | 2.6 MB 24.2 MB/s eta 0:00:01\r\u001b[K     |███████████████████████▋        | 2.6 MB 24.2 MB/s eta 0:00:01\r\u001b[K     |███████████████████████▊        | 2.6 MB 24.2 MB/s eta 0:00:01\r\u001b[K     |███████████████████████▉        | 2.6 MB 24.2 MB/s eta 0:00:01\r\u001b[K     |████████████████████████        | 2.7 MB 24.2 MB/s eta 0:00:01\r\u001b[K     |████████████████████████        | 2.7 MB 24.2 MB/s eta 0:00:01\r\u001b[K     |████████████████████████        | 2.7 MB 24.2 MB/s eta 0:00:01\r\u001b[K     |████████████████████████▏       | 2.7 MB 24.2 MB/s eta 0:00:01\r\u001b[K     |████████████████████████▎       | 2.7 MB 24.2 MB/s eta 0:00:01\r\u001b[K     |████████████████████████▍       | 2.7 MB 24.2 MB/s eta 0:00:01\r\u001b[K     |████████████████████████▌       | 2.7 MB 24.2 MB/s eta 0:00:01\r\u001b[K     |████████████████████████▋       | 2.7 MB 24.2 MB/s eta 0:00:01\r\u001b[K     |████████████████████████▋       | 2.7 MB 24.2 MB/s eta 0:00:01\r\u001b[K     |████████████████████████▊       | 2.7 MB 24.2 MB/s eta 0:00:01\r\u001b[K     |████████████████████████▉       | 2.8 MB 24.2 MB/s eta 0:00:01\r\u001b[K     |█████████████████████████       | 2.8 MB 24.2 MB/s eta 0:00:01\r\u001b[K     |█████████████████████████       | 2.8 MB 24.2 MB/s eta 0:00:01\r\u001b[K     |█████████████████████████▏      | 2.8 MB 24.2 MB/s eta 0:00:01\r\u001b[K     |█████████████████████████▏      | 2.8 MB 24.2 MB/s eta 0:00:01\r\u001b[K     |█████████████████████████▎      | 2.8 MB 24.2 MB/s eta 0:00:01\r\u001b[K     |█████████████████████████▍      | 2.8 MB 24.2 MB/s eta 0:00:01\r\u001b[K     |█████████████████████████▌      | 2.8 MB 24.2 MB/s eta 0:00:01\r\u001b[K     |█████████████████████████▋      | 2.8 MB 24.2 MB/s eta 0:00:01\r\u001b[K     |█████████████████████████▋      | 2.8 MB 24.2 MB/s eta 0:00:01\r\u001b[K     |█████████████████████████▊      | 2.9 MB 24.2 MB/s eta 0:00:01\r\u001b[K     |█████████████████████████▉      | 2.9 MB 24.2 MB/s eta 0:00:01\r\u001b[K     |██████████████████████████      | 2.9 MB 24.2 MB/s eta 0:00:01\r\u001b[K     |██████████████████████████      | 2.9 MB 24.2 MB/s eta 0:00:01\r\u001b[K     |██████████████████████████▏     | 2.9 MB 24.2 MB/s eta 0:00:01\r\u001b[K     |██████████████████████████▏     | 2.9 MB 24.2 MB/s eta 0:00:01\r\u001b[K     |██████████████████████████▎     | 2.9 MB 24.2 MB/s eta 0:00:01\r\u001b[K     |██████████████████████████▍     | 2.9 MB 24.2 MB/s eta 0:00:01\r\u001b[K     |██████████████████████████▌     | 2.9 MB 24.2 MB/s eta 0:00:01\r\u001b[K     |██████████████████████████▋     | 2.9 MB 24.2 MB/s eta 0:00:01\r\u001b[K     |██████████████████████████▊     | 3.0 MB 24.2 MB/s eta 0:00:01\r\u001b[K     |██████████████████████████▊     | 3.0 MB 24.2 MB/s eta 0:00:01\r\u001b[K     |██████████████████████████▉     | 3.0 MB 24.2 MB/s eta 0:00:01\r\u001b[K     |███████████████████████████     | 3.0 MB 24.2 MB/s eta 0:00:01\r\u001b[K     |███████████████████████████     | 3.0 MB 24.2 MB/s eta 0:00:01\r\u001b[K     |███████████████████████████▏    | 3.0 MB 24.2 MB/s eta 0:00:01\r\u001b[K     |███████████████████████████▎    | 3.0 MB 24.2 MB/s eta 0:00:01\r\u001b[K     |███████████████████████████▎    | 3.0 MB 24.2 MB/s eta 0:00:01\r\u001b[K     |███████████████████████████▍    | 3.0 MB 24.2 MB/s eta 0:00:01\r\u001b[K     |███████████████████████████▌    | 3.1 MB 24.2 MB/s eta 0:00:01\r\u001b[K     |███████████████████████████▋    | 3.1 MB 24.2 MB/s eta 0:00:01\r\u001b[K     |███████████████████████████▊    | 3.1 MB 24.2 MB/s eta 0:00:01\r\u001b[K     |███████████████████████████▉    | 3.1 MB 24.2 MB/s eta 0:00:01\r\u001b[K     |███████████████████████████▉    | 3.1 MB 24.2 MB/s eta 0:00:01\r\u001b[K     |████████████████████████████    | 3.1 MB 24.2 MB/s eta 0:00:01\r\u001b[K     |████████████████████████████    | 3.1 MB 24.2 MB/s eta 0:00:01\r\u001b[K     |████████████████████████████▏   | 3.1 MB 24.2 MB/s eta 0:00:01\r\u001b[K     |████████████████████████████▎   | 3.1 MB 24.2 MB/s eta 0:00:01\r\u001b[K     |████████████████████████████▍   | 3.1 MB 24.2 MB/s eta 0:00:01\r\u001b[K     |████████████████████████████▍   | 3.2 MB 24.2 MB/s eta 0:00:01\r\u001b[K     |████████████████████████████▌   | 3.2 MB 24.2 MB/s eta 0:00:01\r\u001b[K     |████████████████████████████▋   | 3.2 MB 24.2 MB/s eta 0:00:01\r\u001b[K     |████████████████████████████▊   | 3.2 MB 24.2 MB/s eta 0:00:01\r\u001b[K     |████████████████████████████▉   | 3.2 MB 24.2 MB/s eta 0:00:01\r\u001b[K     |█████████████████████████████   | 3.2 MB 24.2 MB/s eta 0:00:01\r\u001b[K     |█████████████████████████████   | 3.2 MB 24.2 MB/s eta 0:00:01\r\u001b[K     |█████████████████████████████   | 3.2 MB 24.2 MB/s eta 0:00:01\r\u001b[K     |█████████████████████████████▏  | 3.2 MB 24.2 MB/s eta 0:00:01\r\u001b[K     |█████████████████████████████▎  | 3.2 MB 24.2 MB/s eta 0:00:01\r\u001b[K     |█████████████████████████████▍  | 3.3 MB 24.2 MB/s eta 0:00:01\r\u001b[K     |█████████████████████████████▌  | 3.3 MB 24.2 MB/s eta 0:00:01\r\u001b[K     |█████████████████████████████▌  | 3.3 MB 24.2 MB/s eta 0:00:01\r\u001b[K     |█████████████████████████████▋  | 3.3 MB 24.2 MB/s eta 0:00:01\r\u001b[K     |█████████████████████████████▊  | 3.3 MB 24.2 MB/s eta 0:00:01\r\u001b[K     |█████████████████████████████▉  | 3.3 MB 24.2 MB/s eta 0:00:01\r\u001b[K     |██████████████████████████████  | 3.3 MB 24.2 MB/s eta 0:00:01\r\u001b[K     |██████████████████████████████  | 3.3 MB 24.2 MB/s eta 0:00:01\r\u001b[K     |██████████████████████████████  | 3.3 MB 24.2 MB/s eta 0:00:01\r\u001b[K     |██████████████████████████████▏ | 3.3 MB 24.2 MB/s eta 0:00:01\r\u001b[K     |██████████████████████████████▎ | 3.4 MB 24.2 MB/s eta 0:00:01\r\u001b[K     |██████████████████████████████▍ | 3.4 MB 24.2 MB/s eta 0:00:01\r\u001b[K     |██████████████████████████████▌ | 3.4 MB 24.2 MB/s eta 0:00:01\r\u001b[K     |██████████████████████████████▋ | 3.4 MB 24.2 MB/s eta 0:00:01\r\u001b[K     |██████████████████████████████▋ | 3.4 MB 24.2 MB/s eta 0:00:01\r\u001b[K     |██████████████████████████████▊ | 3.4 MB 24.2 MB/s eta 0:00:01\r\u001b[K     |██████████████████████████████▉ | 3.4 MB 24.2 MB/s eta 0:00:01\r\u001b[K     |███████████████████████████████ | 3.4 MB 24.2 MB/s eta 0:00:01\r\u001b[K     |███████████████████████████████ | 3.4 MB 24.2 MB/s eta 0:00:01\r\u001b[K     |███████████████████████████████▏| 3.5 MB 24.2 MB/s eta 0:00:01\r\u001b[K     |███████████████████████████████▏| 3.5 MB 24.2 MB/s eta 0:00:01\r\u001b[K     |███████████████████████████████▎| 3.5 MB 24.2 MB/s eta 0:00:01\r\u001b[K     |███████████████████████████████▍| 3.5 MB 24.2 MB/s eta 0:00:01\r\u001b[K     |███████████████████████████████▌| 3.5 MB 24.2 MB/s eta 0:00:01\r\u001b[K     |███████████████████████████████▋| 3.5 MB 24.2 MB/s eta 0:00:01\r\u001b[K     |███████████████████████████████▊| 3.5 MB 24.2 MB/s eta 0:00:01\r\u001b[K     |███████████████████████████████▊| 3.5 MB 24.2 MB/s eta 0:00:01\r\u001b[K     |███████████████████████████████▉| 3.5 MB 24.2 MB/s eta 0:00:01\r\u001b[K     |████████████████████████████████| 3.5 MB 24.2 MB/s eta 0:00:01\r\u001b[K     |████████████████████████████████| 3.5 MB 24.2 MB/s \n",
            "\u001b[?25hRequirement already satisfied: importlib-metadata in /usr/local/lib/python3.7/dist-packages (from transformers) (4.10.1)\n",
            "Collecting tokenizers!=0.11.3,>=0.10.1\n",
            "  Downloading tokenizers-0.11.4-cp37-cp37m-manylinux_2_12_x86_64.manylinux2010_x86_64.whl (6.8 MB)\n",
            "\u001b[K     |████████████████████████████████| 6.8 MB 38.1 MB/s \n",
            "\u001b[?25hCollecting sacremoses\n",
            "  Downloading sacremoses-0.0.47-py2.py3-none-any.whl (895 kB)\n",
            "\u001b[K     |████████████████████████████████| 895 kB 56.4 MB/s \n",
            "\u001b[?25hRequirement already satisfied: filelock in /usr/local/lib/python3.7/dist-packages (from transformers) (3.4.2)\n",
            "Requirement already satisfied: requests in /usr/local/lib/python3.7/dist-packages (from transformers) (2.23.0)\n",
            "Requirement already satisfied: tqdm>=4.27 in /usr/local/lib/python3.7/dist-packages (from transformers) (4.62.3)\n",
            "Collecting huggingface-hub<1.0,>=0.1.0\n",
            "  Downloading huggingface_hub-0.4.0-py3-none-any.whl (67 kB)\n",
            "\u001b[K     |████████████████████████████████| 67 kB 5.2 MB/s \n",
            "\u001b[?25hRequirement already satisfied: packaging>=20.0 in /usr/local/lib/python3.7/dist-packages (from transformers) (21.3)\n",
            "Requirement already satisfied: regex!=2019.12.17 in /usr/local/lib/python3.7/dist-packages (from transformers) (2019.12.20)\n",
            "Requirement already satisfied: numpy>=1.17 in /usr/local/lib/python3.7/dist-packages (from transformers) (1.19.5)\n",
            "Collecting pyyaml>=5.1\n",
            "  Downloading PyYAML-6.0-cp37-cp37m-manylinux_2_5_x86_64.manylinux1_x86_64.manylinux_2_12_x86_64.manylinux2010_x86_64.whl (596 kB)\n",
            "\u001b[K     |████████████████████████████████| 596 kB 55.1 MB/s \n",
            "\u001b[?25hRequirement already satisfied: typing-extensions>=3.7.4.3 in /usr/local/lib/python3.7/dist-packages (from huggingface-hub<1.0,>=0.1.0->transformers) (3.10.0.2)\n",
            "Requirement already satisfied: pyparsing!=3.0.5,>=2.0.2 in /usr/local/lib/python3.7/dist-packages (from packaging>=20.0->transformers) (3.0.7)\n",
            "Requirement already satisfied: zipp>=0.5 in /usr/local/lib/python3.7/dist-packages (from importlib-metadata->transformers) (3.7.0)\n",
            "Requirement already satisfied: certifi>=2017.4.17 in /usr/local/lib/python3.7/dist-packages (from requests->transformers) (2021.10.8)\n",
            "Requirement already satisfied: urllib3!=1.25.0,!=1.25.1,<1.26,>=1.21.1 in /usr/local/lib/python3.7/dist-packages (from requests->transformers) (1.24.3)\n",
            "Requirement already satisfied: chardet<4,>=3.0.2 in /usr/local/lib/python3.7/dist-packages (from requests->transformers) (3.0.4)\n",
            "Requirement already satisfied: idna<3,>=2.5 in /usr/local/lib/python3.7/dist-packages (from requests->transformers) (2.10)\n",
            "Requirement already satisfied: joblib in /usr/local/lib/python3.7/dist-packages (from sacremoses->transformers) (1.1.0)\n",
            "Requirement already satisfied: click in /usr/local/lib/python3.7/dist-packages (from sacremoses->transformers) (7.1.2)\n",
            "Requirement already satisfied: six in /usr/local/lib/python3.7/dist-packages (from sacremoses->transformers) (1.15.0)\n",
            "Installing collected packages: pyyaml, tokenizers, sacremoses, huggingface-hub, transformers\n",
            "  Attempting uninstall: pyyaml\n",
            "    Found existing installation: PyYAML 3.13\n",
            "    Uninstalling PyYAML-3.13:\n",
            "      Successfully uninstalled PyYAML-3.13\n",
            "Successfully installed huggingface-hub-0.4.0 pyyaml-6.0 sacremoses-0.0.47 tokenizers-0.11.4 transformers-4.16.2\n"
          ]
        }
      ]
    },
    {
      "cell_type": "markdown",
      "id": "cecc45f3",
      "metadata": {
        "id": "cecc45f3"
      },
      "source": [
        "##  HerBERT "
      ]
    },
    {
      "cell_type": "code",
      "source": [
        "from transformers import pipeline, AutoTokenizer, AutoModelForMaskedLM\n",
        "import re"
      ],
      "metadata": {
        "id": "WXzIDoHNdfIR"
      },
      "id": "WXzIDoHNdfIR",
      "execution_count": 16,
      "outputs": []
    },
    {
      "cell_type": "code",
      "execution_count": 9,
      "id": "6b6ffc70",
      "metadata": {
        "scrolled": true,
        "colab": {
          "base_uri": "https://localhost:8080/"
        },
        "id": "6b6ffc70",
        "outputId": "05f8a0e1-e888-4dda-d120-f51bb9d574b3"
      },
      "outputs": [
        {
          "output_type": "stream",
          "name": "stderr",
          "text": [
            "Some weights of the model checkpoint at allegro/herbert-base-cased were not used when initializing BertForMaskedLM: ['cls.sso.sso_relationship.bias', 'cls.sso.sso_relationship.weight']\n",
            "- This IS expected if you are initializing BertForMaskedLM from the checkpoint of a model trained on another task or with another architecture (e.g. initializing a BertForSequenceClassification model from a BertForPreTraining model).\n",
            "- This IS NOT expected if you are initializing BertForMaskedLM from the checkpoint of a model that you expect to be exactly identical (initializing a BertForSequenceClassification model from a BertForSequenceClassification model).\n"
          ]
        }
      ],
      "source": [
        "tokenizer_herbert = AutoTokenizer.from_pretrained(\"allegro/herbert-base-cased\")\n",
        "herbert = AutoModelForMaskedLM.from_pretrained(\"allegro/herbert-base-cased\")"
      ]
    },
    {
      "cell_type": "markdown",
      "id": "8f9143f6",
      "metadata": {
        "id": "8f9143f6"
      },
      "source": [
        "##  Polbert - Polish BERT"
      ]
    },
    {
      "cell_type": "code",
      "execution_count": 10,
      "id": "7784d4ae",
      "metadata": {
        "colab": {
          "base_uri": "https://localhost:8080/"
        },
        "id": "7784d4ae",
        "outputId": "499a88b2-d759-4181-d434-c6532760aad6"
      },
      "outputs": [
        {
          "output_type": "stream",
          "name": "stderr",
          "text": [
            "Some weights of the model checkpoint at dkleczek/bert-base-polish-uncased-v1 were not used when initializing BertForMaskedLM: ['cls.seq_relationship.weight', 'cls.seq_relationship.bias']\n",
            "- This IS expected if you are initializing BertForMaskedLM from the checkpoint of a model trained on another task or with another architecture (e.g. initializing a BertForSequenceClassification model from a BertForPreTraining model).\n",
            "- This IS NOT expected if you are initializing BertForMaskedLM from the checkpoint of a model that you expect to be exactly identical (initializing a BertForSequenceClassification model from a BertForSequenceClassification model).\n"
          ]
        }
      ],
      "source": [
        "from transformers import BertForMaskedLM, BertTokenizer\n",
        "bert = BertForMaskedLM.from_pretrained(\"dkleczek/bert-base-polish-uncased-v1\")\n",
        "tokenizer_bert = BertTokenizer.from_pretrained(\"dkleczek/bert-base-polish-uncased-v1\")"
      ]
    },
    {
      "cell_type": "markdown",
      "id": "7ddddd68",
      "metadata": {
        "id": "7ddddd68"
      },
      "source": [
        "## Bert base multilingual"
      ]
    },
    {
      "cell_type": "code",
      "execution_count": 11,
      "id": "b4bdbf54",
      "metadata": {
        "colab": {
          "base_uri": "https://localhost:8080/"
        },
        "id": "b4bdbf54",
        "outputId": "e8773979-1ce8-4845-bd4d-75ec162a9b3d"
      },
      "outputs": [
        {
          "output_type": "stream",
          "name": "stderr",
          "text": [
            "Some weights of the model checkpoint at DeepPavlov/bert-base-bg-cs-pl-ru-cased were not used when initializing BertForMaskedLM: ['cls.seq_relationship.weight', 'cls.seq_relationship.bias']\n",
            "- This IS expected if you are initializing BertForMaskedLM from the checkpoint of a model trained on another task or with another architecture (e.g. initializing a BertForSequenceClassification model from a BertForPreTraining model).\n",
            "- This IS NOT expected if you are initializing BertForMaskedLM from the checkpoint of a model that you expect to be exactly identical (initializing a BertForSequenceClassification model from a BertForSequenceClassification model).\n"
          ]
        }
      ],
      "source": [
        "from transformers import AutoTokenizer, AutoModelForMaskedLM\n",
        "tokenizer_dp = AutoTokenizer.from_pretrained(\"DeepPavlov/bert-base-bg-cs-pl-ru-cased\")\n",
        "dp = AutoModelForMaskedLM.from_pretrained(\"DeepPavlov/bert-base-bg-cs-pl-ru-cased\")"
      ]
    },
    {
      "cell_type": "markdown",
      "id": "52cfee12",
      "metadata": {
        "id": "52cfee12"
      },
      "source": [
        "## 3.Produce the predictions for the following sentences (use each model and check 5 predictions): \n",
        "\n",
        "\n",
        "    (M) Warszawa to największe [MASK].\n",
        "    (D) Te zabawki należą do [MASK].\n",
        "    (C) Policjant przygląda się [MASK].\n",
        "    (B) Na środku skrzyżowania widać [MASK].\n",
        "    (N) Właściciel samochodu widział złodzieja z [MASK].\n",
        "    (Ms) Prezydent z premierem rozmawiali wczoraj o [MASK].\n",
        "    (W) Witaj drogi [MASK].\n",
        "\n"
      ]
    },
    {
      "cell_type": "code",
      "execution_count": 12,
      "id": "6649b770",
      "metadata": {
        "id": "6649b770"
      },
      "outputs": [],
      "source": [
        "sentences = ['Warszawa to największe [MASK].',\\\n",
        "             'Te zabawki należą do [MASK].',\\\n",
        "             'Policjant przygląda się [MASK].',\\\n",
        "             'Na środku skrzyżowania widać [MASK].',\\\n",
        "             'Właściciel samochodu widział złodzieja z [MASK].',\\\n",
        "             'Prezydent z premierem rozmawiali wczoraj o [MASK].',\\\n",
        "             'Witaj drogi [MASK].']\n",
        "\n",
        "model_names = ['polbert', 'dp', 'Herbert']\n",
        "models = [bert, dp, herbert]\n",
        "tokenizers = [tokenizer_bert, tokenizer_dp, tokenizer_herbert]"
      ]
    },
    {
      "cell_type": "code",
      "execution_count": 13,
      "id": "c4852969",
      "metadata": {
        "scrolled": false,
        "colab": {
          "base_uri": "https://localhost:8080/"
        },
        "id": "c4852969",
        "outputId": "6694d512-c3c9-4ed1-aa15-6842c0dc9743"
      },
      "outputs": [
        {
          "output_type": "stream",
          "name": "stdout",
          "text": [
            "----------------------------------------------------------------------------------------------------\n",
            "polbert\n",
            "----------------------------------------------------------------------------------------------------\n",
            "warszawa to najwieksze miasto.\n",
            "warszawa to najwieksze miejsce.\n",
            "warszawa to najwieksze lotnisko.\n",
            "warszawa to najwieksze centrum.\n",
            "warszawa to najwieksze miasta.\n",
            "te zabawki naleza do mnie.\n",
            "te zabawki naleza do ciebie.\n",
            "te zabawki naleza do niego.\n",
            "te zabawki naleza do nas.\n",
            "te zabawki naleza do pana.\n",
            "policjant przyglada sie temu.\n",
            "policjant przyglada sie mu.\n",
            "policjant przyglada sie im.\n",
            "policjant przyglada sie nam.\n",
            "policjant przyglada sie jej.\n",
            "na srodku skrzyzowania widac dym.\n",
            "na srodku skrzyzowania widac wszystko.\n",
            "na srodku skrzyzowania widac ulice.\n",
            "na srodku skrzyzowania widac ruch.\n",
            "na srodku skrzyzowania widac samochod.\n",
            "własciciel samochodu widział złodzieja z tyłu.\n",
            "własciciel samochodu widział złodzieja z bliska.\n",
            "własciciel samochodu widział złodzieja z samochodu.\n",
            "własciciel samochodu widział złodzieja z kamera.\n",
            "własciciel samochodu widział złodzieja z parkingu.\n",
            "prezydent z premierem rozmawiali wczoraj o tym.\n",
            "prezydent z premierem rozmawiali wczoraj o ataku.\n",
            "prezydent z premierem rozmawiali wczoraj o panu.\n",
            "prezydent z premierem rozmawiali wczoraj o tobie.\n",
            "prezydent z premierem rozmawiali wczoraj o zamachu.\n",
            "witaj drogi chłopcze.\n",
            "witaj drogi przyjacielu.\n",
            "witaj drogi synu.\n",
            "witaj drogi ojcze.\n",
            "witaj drogi bracie.\n",
            "----------------------------------------------------------------------------------------------------\n",
            "dp\n",
            "----------------------------------------------------------------------------------------------------\n",
            "Warszawa to największe miasto.\n",
            "Warszawa to największe miasteczko.\n",
            "Warszawa to największe Miasto.\n",
            "Warszawa to największe lotnisko.\n",
            "Warszawa to największe centrum.\n",
            "Te zabawki należą do tzw.\n",
            "Te zabawki należą do najpopularniejszych.\n",
            "Te zabawki należą do ok.\n",
            "Te zabawki należą do gatunku.\n",
            "Te zabawki należą do udanych.\n",
            "Policjant przygląda się temu.\n",
            "Policjant przygląda się mu.\n",
            "Policjant przygląda się jej.\n",
            "Policjant przygląda się policji.\n",
            "Policjant przygląda się sprawie.\n",
            "Na środku skrzyżowania widać ok.\n",
            "Na środku skrzyżowania widać tzw.\n",
            "Na środku skrzyżowania widać ul.\n",
            "Na środku skrzyżowania widać ulice.\n",
            "Na środku skrzyżowania widać las.\n",
            "Właściciel samochodu widział złodzieja z tyłu.\n",
            "Właściciel samochodu widział złodzieja z góry.\n",
            "Właściciel samochodu widział złodzieja z samochodu.\n",
            "Właściciel samochodu widział złodzieja z domu.\n",
            "Właściciel samochodu widział złodzieja z ulicy.\n",
            "Prezydent z premierem rozmawiali wczoraj o wojnie.\n",
            "Prezydent z premierem rozmawiali wczoraj o przyjaźni.\n",
            "Prezydent z premierem rozmawiali wczoraj o sytuacji.\n",
            "Prezydent z premierem rozmawiali wczoraj o pokoju.\n",
            "Prezydent z premierem rozmawiali wczoraj o tym.\n",
            "Witaj drogi zielone.\n",
            "Witaj drogi powiatowej.\n",
            "Witaj drogi publicznej.\n",
            "Witaj drogi czynnej.\n",
            "Witaj drogi wojewódzkiej.\n",
            "----------------------------------------------------------------------------------------------------\n",
            "Herbert\n",
            "----------------------------------------------------------------------------------------------------\n",
            "Warszawa to największe miasto.\n",
            "Warszawa to największe lotnisko.\n",
            "Warszawa to największe centrum.\n",
            "Warszawa to największe miasta.\n",
            "Warszawa to największe atrakcje.\n",
            "Te zabawki należą do rodziny.\n",
            "Te zabawki należą do nas.\n",
            "Te zabawki należą do nich.\n",
            "Te zabawki należą do najlepszych.\n",
            "Te zabawki należą do..\n",
            "Policjant przygląda się mężczyźnie.\n",
            "Policjant przygląda się kobiecie.\n",
            "Policjant przygląda się mu.\n",
            "Policjant przygląda się dziewczynie.\n",
            "Policjant przygląda się sprawie.\n",
            "Na środku skrzyżowania widać rondo.\n",
            "Na środku skrzyżowania widać samochody.\n",
            "Na środku skrzyżowania widać radiowóz.\n",
            "Na środku skrzyżowania widać samochód.\n",
            "Na środku skrzyżowania widać wiadukt.\n",
            "Właściciel samochodu widział złodzieja z samochodu.\n",
            "Właściciel samochodu widział złodzieja z włamaniem.\n",
            "Właściciel samochodu widział złodzieja z auta.\n",
            "Właściciel samochodu widział złodzieja z kierowcą.\n",
            "Właściciel samochodu widział złodzieja z parkingu.\n",
            "Prezydent z premierem rozmawiali wczoraj o przyszłości.\n",
            "Prezydent z premierem rozmawiali wczoraj o Polsce.\n",
            "Prezydent z premierem rozmawiali wczoraj o bezpieczeństwie.\n",
            "Prezydent z premierem rozmawiali wczoraj o polityce.\n",
            "Prezydent z premierem rozmawiali wczoraj o Warszawie.\n",
            "Witaj drogi Łukasz.\n",
            "Witaj drogi Boże.\n",
            "Witaj drogi człowieku.\n",
            "Witaj drogi Karol.\n",
            "Witaj drogi Marcin.\n"
          ]
        }
      ],
      "source": [
        "for model, tokenizer, name in zip(models, tokenizers, model_names):\n",
        "    print('-'*100)\n",
        "    print(name)\n",
        "    print('-'*100)\n",
        "    nlp = pipeline('fill-mask', model=model, tokenizer=tokenizer)\n",
        "    for sentence in sentences:\n",
        "        sentence = sentence.replace('[MASK]', f'{tokenizer.mask_token}')\n",
        "        for pred in nlp(sentence):\n",
        "            print(pred['sequence'])"
      ]
    },
    {
      "cell_type": "markdown",
      "id": "7d18b613",
      "metadata": {
        "id": "7d18b613"
      },
      "source": [
        "# 3. Check the model predictions for the following sentences (using each model): \n",
        "\n",
        "    Gdybym wiedział wtedy dokładnie to, co wiem teraz, to bym się nie [MASK].\n",
        "    Gdybym wiedziała wtedy dokładnie to, co wiem teraz, to bym się nie [MASK].\n"
      ]
    },
    {
      "cell_type": "code",
      "execution_count": 14,
      "id": "f9e3a998",
      "metadata": {
        "id": "f9e3a998"
      },
      "outputs": [],
      "source": [
        "sentences2 = ['Gdybym wiedział wtedy dokładnie to, co wiem teraz, to bym się nie [MASK].',\\\n",
        "             'Gdybym wiedziała wtedy dokładnie to, co wiem teraz, to bym się nie [MASK].']"
      ]
    },
    {
      "cell_type": "code",
      "execution_count": 15,
      "id": "42e878c4",
      "metadata": {
        "scrolled": false,
        "colab": {
          "base_uri": "https://localhost:8080/"
        },
        "id": "42e878c4",
        "outputId": "840a78fb-fe35-4986-a361-21cfec3887ba"
      },
      "outputs": [
        {
          "output_type": "stream",
          "name": "stdout",
          "text": [
            "====================================================================================================\n",
            "POLBERT\n",
            "====================================================================================================\n",
            "gdybym wiedział wtedy dokładnie to, co wiem teraz, to bym sie nie dowiedział.\n",
            "gdybym wiedział wtedy dokładnie to, co wiem teraz, to bym sie nie martwił.\n",
            "gdybym wiedział wtedy dokładnie to, co wiem teraz, to bym sie nie przyznał.\n",
            "gdybym wiedział wtedy dokładnie to, co wiem teraz, to bym sie nie zgodził.\n",
            "gdybym wiedział wtedy dokładnie to, co wiem teraz, to bym sie nie zdziwił.\n",
            "----------------------------------------------------------------------------------------------------\n",
            "gdybym wiedziała wtedy dokładnie to, co wiem teraz, to bym sie nie dowiedziała.\n",
            "gdybym wiedziała wtedy dokładnie to, co wiem teraz, to bym sie nie zgodziła.\n",
            "gdybym wiedziała wtedy dokładnie to, co wiem teraz, to bym sie nie przyznała.\n",
            "gdybym wiedziała wtedy dokładnie to, co wiem teraz, to bym sie nie zabiła.\n",
            "gdybym wiedziała wtedy dokładnie to, co wiem teraz, to bym sie nie poddała.\n",
            "----------------------------------------------------------------------------------------------------\n",
            "====================================================================================================\n",
            "DP\n",
            "====================================================================================================\n",
            "Gdybym wiedział wtedy dokładnie to, co wiem teraz, to bym się nie czuł.\n",
            "Gdybym wiedział wtedy dokładnie to, co wiem teraz, to bym się nie bał.\n",
            "Gdybym wiedział wtedy dokładnie to, co wiem teraz, to bym się nie zgodził.\n",
            "Gdybym wiedział wtedy dokładnie to, co wiem teraz, to bym się nie dowiedział.\n",
            "Gdybym wiedział wtedy dokładnie to, co wiem teraz, to bym się nie ukrywał.\n",
            "----------------------------------------------------------------------------------------------------\n",
            "Gdybym wiedziała wtedy dokładnie to, co wiem teraz, to bym się nie zgodziła.\n",
            "Gdybym wiedziała wtedy dokładnie to, co wiem teraz, to bym się nie udała.\n",
            "Gdybym wiedziała wtedy dokładnie to, co wiem teraz, to bym się nie przyznała.\n",
            "Gdybym wiedziała wtedy dokładnie to, co wiem teraz, to bym się nie chciała.\n",
            "Gdybym wiedziała wtedy dokładnie to, co wiem teraz, to bym się nie cieszyła.\n",
            "----------------------------------------------------------------------------------------------------\n",
            "====================================================================================================\n",
            "HERBERT\n",
            "====================================================================================================\n",
            "Gdybym wiedział wtedy dokładnie to, co wiem teraz, to bym się nie poddał.\n",
            "Gdybym wiedział wtedy dokładnie to, co wiem teraz, to bym się nie zdziwił.\n",
            "Gdybym wiedział wtedy dokładnie to, co wiem teraz, to bym się nie dowiedział.\n",
            "Gdybym wiedział wtedy dokładnie to, co wiem teraz, to bym się nie zastanawiał.\n",
            "Gdybym wiedział wtedy dokładnie to, co wiem teraz, to bym się nie przyznał.\n",
            "----------------------------------------------------------------------------------------------------\n",
            "Gdybym wiedziała wtedy dokładnie to, co wiem teraz, to bym się nie dowiedziała.\n",
            "Gdybym wiedziała wtedy dokładnie to, co wiem teraz, to bym się nie przyznała.\n",
            "Gdybym wiedziała wtedy dokładnie to, co wiem teraz, to bym się nie bała.\n",
            "Gdybym wiedziała wtedy dokładnie to, co wiem teraz, to bym się nie zmieniła.\n",
            "Gdybym wiedziała wtedy dokładnie to, co wiem teraz, to bym się nie zgodziła.\n",
            "----------------------------------------------------------------------------------------------------\n"
          ]
        }
      ],
      "source": [
        "for model, tokenizer, name in zip(models, tokenizers, model_names):\n",
        "    print('='*100)\n",
        "    print(name.upper())\n",
        "    print('='*100)\n",
        "    nlp = pipeline('fill-mask', model=model, tokenizer=tokenizer)\n",
        "    for sentence in sentences2:\n",
        "        sentence = sentence.replace('[MASK]', f'{tokenizer.mask_token}')\n",
        "        for pred in nlp(sentence):\n",
        "            print(pred['sequence'])\n",
        "        print('-'*100)"
      ]
    },
    {
      "cell_type": "markdown",
      "id": "a8c4b1a2",
      "metadata": {
        "id": "a8c4b1a2"
      },
      "source": [
        "## 5.Check the model predictions for the following sentences:\n",
        "\n",
        "    [MASK] wrze w temperaturze 100 stopni, a zamarza w temperaturze 0 stopni Celsjusza.\n",
        "    W wakacje odwiedziłem [MASK], który jest stolicą Islandii.\n",
        "    Informatyka na [MASK] należy do najlepszych kierunków w Polsce.\n"
      ]
    },
    {
      "cell_type": "code",
      "execution_count": 17,
      "id": "d561efc5",
      "metadata": {
        "id": "d561efc5"
      },
      "outputs": [],
      "source": [
        "sentences3 = [f'[MASK] wrze w temperaturze 100 stopni, a zamarza w temperaturze 0 stopni Celcjusza.',\\\n",
        "             f'W wakacje odwiedziłem [MASK], który jest stolicą Islandii.',\\\n",
        "             f'Informatyka na [MASK] należy do najlepszych kierunków w Polsce.']\n"
      ]
    },
    {
      "cell_type": "code",
      "execution_count": 18,
      "id": "6dde2566",
      "metadata": {
        "colab": {
          "base_uri": "https://localhost:8080/"
        },
        "id": "6dde2566",
        "outputId": "f0e8f408-f562-4c00-fa3a-f23330445017"
      },
      "outputs": [
        {
          "output_type": "stream",
          "name": "stdout",
          "text": [
            "====================================================================================================\n",
            "POLBERT\n",
            "====================================================================================================\n",
            "woda wrze w temperaturze 100 stopni, a zamarza w temperaturze 0 stopni celcjusza.\n",
            "nie wrze w temperaturze 100 stopni, a zamarza w temperaturze 0 stopni celcjusza.\n",
            "ciało wrze w temperaturze 100 stopni, a zamarza w temperaturze 0 stopni celcjusza.\n",
            "powietrze wrze w temperaturze 100 stopni, a zamarza w temperaturze 0 stopni celcjusza.\n",
            "temperatura wrze w temperaturze 100 stopni, a zamarza w temperaturze 0 stopni celcjusza.\n",
            "----------------------------------------------------------------------------------------------------\n",
            "w wakacje odwiedziłem zamek, ktory jest stolica islandii.\n",
            "w wakacje odwiedziłem kraj, ktory jest stolica islandii.\n",
            "w wakacje odwiedziłem sztokholm, ktory jest stolica islandii.\n",
            "w wakacje odwiedziłem park, ktory jest stolica islandii.\n",
            "w wakacje odwiedziłem region, ktory jest stolica islandii.\n",
            "----------------------------------------------------------------------------------------------------\n",
            "informatyka na uniwersytecie nalezy do najlepszych kierunkow w polsce.\n",
            "informatyka na swiecie nalezy do najlepszych kierunkow w polsce.\n",
            "informatyka na uczelni nalezy do najlepszych kierunkow w polsce.\n",
            "informatyka na uczelniach nalezy do najlepszych kierunkow w polsce.\n",
            "informatyka na ukrainie nalezy do najlepszych kierunkow w polsce.\n",
            "----------------------------------------------------------------------------------------------------\n",
            "====================================================================================================\n",
            "DP\n",
            "====================================================================================================\n",
            "Jezioro wrze w temperaturze 100 stopni, a zamarza w temperaturze 0 stopni Celcjusza.\n",
            "Woda wrze w temperaturze 100 stopni, a zamarza w temperaturze 0 stopni Celcjusza.\n",
            "Zbiornik wrze w temperaturze 100 stopni, a zamarza w temperaturze 0 stopni Celcjusza.\n",
            "Rzeka wrze w temperaturze 100 stopni, a zamarza w temperaturze 0 stopni Celcjusza.\n",
            "Latem wrze w temperaturze 100 stopni, a zamarza w temperaturze 0 stopni Celcjusza.\n",
            "----------------------------------------------------------------------------------------------------\n",
            "W wakacje odwiedziłem Reykjavík, który jest stolicą Islandii.\n",
            "W wakacje odwiedziłem Bergen, który jest stolicą Islandii.\n",
            "W wakacje odwiedziłem Trondheim, który jest stolicą Islandii.\n",
            "W wakacje odwiedziłem Islandii, który jest stolicą Islandii.\n",
            "W wakacje odwiedziłem Belfast, który jest stolicą Islandii.\n",
            "----------------------------------------------------------------------------------------------------\n",
            "Informatyka na Internetu należy do najlepszych kierunków w Polsce.\n",
            "Informatyka na Uniwersytecie należy do najlepszych kierunków w Polsce.\n",
            "Informatyka na rynku należy do najlepszych kierunków w Polsce.\n",
            "Informatyka na Świecie należy do najlepszych kierunków w Polsce.\n",
            "Informatyka na internetu należy do najlepszych kierunków w Polsce.\n",
            "----------------------------------------------------------------------------------------------------\n",
            "====================================================================================================\n",
            "HERBERT\n",
            "====================================================================================================\n",
            "Woda wrze w temperaturze 100 stopni, a zamarza w temperaturze 0 stopni Celcjusza.\n",
            "Słońce wrze w temperaturze 100 stopni, a zamarza w temperaturze 0 stopni Celcjusza.\n",
            "Ziemia wrze w temperaturze 100 stopni, a zamarza w temperaturze 0 stopni Celcjusza.\n",
            "Ciało wrze w temperaturze 100 stopni, a zamarza w temperaturze 0 stopni Celcjusza.\n",
            "Następnie wrze w temperaturze 100 stopni, a zamarza w temperaturze 0 stopni Celcjusza.\n",
            "----------------------------------------------------------------------------------------------------\n",
            "W wakacje odwiedziłem Kraków, który jest stolicą Islandii.\n",
            "W wakacje odwiedziłem Oslo, który jest stolicą Islandii.\n",
            "W wakacje odwiedziłem Londyn, który jest stolicą Islandii.\n",
            "W wakacje odwiedziłem Gdańsk, który jest stolicą Islandii.\n",
            "W wakacje odwiedziłem Toruń, który jest stolicą Islandii.\n",
            "----------------------------------------------------------------------------------------------------\n",
            "Informatyka na pewno należy do najlepszych kierunków w Polsce.\n",
            "Informatyka na AGH należy do najlepszych kierunków w Polsce.\n",
            "Informatyka na UW należy do najlepszych kierunków w Polsce.\n",
            "Informatyka na studiach należy do najlepszych kierunków w Polsce.\n",
            "Informatyka na UMK należy do najlepszych kierunków w Polsce.\n",
            "----------------------------------------------------------------------------------------------------\n"
          ]
        }
      ],
      "source": [
        "for model, tokenizer, name in zip(models, tokenizers, model_names):\n",
        "    print('='*100)\n",
        "    print(name.upper())\n",
        "    print('='*100)\n",
        "    nlp = pipeline('fill-mask', model=model, tokenizer=tokenizer)\n",
        "    for sentence in sentences3:\n",
        "        sentence = sentence.replace('[MASK]', f'{tokenizer.mask_token}')\n",
        "        for pred in nlp(sentence):\n",
        "            print(pred['sequence'])\n",
        "        print('-'*100)\n"
      ]
    },
    {
      "cell_type": "markdown",
      "id": "4132d4c3",
      "metadata": {
        "id": "4132d4c3"
      },
      "source": [
        "## 7. Answer the following questions:\n",
        "### Which of the models produced the best results?\n",
        "    - Jest to zależne od konkretnych przykładów, natomiast wydaje mi się że najlepsze wyniki dał Polbert; reszta nie była natomiast zła.\n",
        "    \n",
        "### Was any of the models able to capture Polish grammar?\n",
        "    - Wszystkim modelom udało się uwzględnić polską gramatykę.\n",
        "    \n",
        "### Was any of the models able to capture long-distant relationships between the words?\n",
        "    - Modelowi DP udało się to w zdaniu o stolicy Islandii\n",
        "    - Wszystkim modelom udało się to w zdaniu o wrzeniu wody\n",
        "    \n",
        "### Was any of the models able to capture world knowledge?\n",
        "    - Tak, wspomniane wyżej zdanie o Islandii w modelu DP; \"W wakacje odwiedziłem Reykjavík, który jest stolicą Islandii.\"\n",
        "    \n",
        "### What are the most striking errors made by the models?\n",
        "    - znaki interpunkcyjne zwracane zamiast słów (np. \"Te zabawki należą do..\")\n",
        "    -\"Informatyka na Internetu należy do najlepszych kierunków w Polsce.\"\n",
        "    -\"nie wrze w temperaturze 100 stopni, a zamarza w temperaturze 0 stopni celcjusza.\""
      ]
    }
  ],
  "metadata": {
    "kernelspec": {
      "display_name": "Python 3 (ipykernel)",
      "language": "python",
      "name": "python3"
    },
    "language_info": {
      "codemirror_mode": {
        "name": "ipython",
        "version": 3
      },
      "file_extension": ".py",
      "mimetype": "text/x-python",
      "name": "python",
      "nbconvert_exporter": "python",
      "pygments_lexer": "ipython3",
      "version": "3.8.10"
    },
    "colab": {
      "name": "JakubPasich_lab6.ipynb",
      "provenance": []
    }
  },
  "nbformat": 4,
  "nbformat_minor": 5
}